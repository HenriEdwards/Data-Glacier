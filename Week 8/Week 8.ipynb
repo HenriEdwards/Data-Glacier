{
 "cells": [
  {
   "cell_type": "markdown",
   "id": "8fa567dd",
   "metadata": {},
   "source": [
    "# Banking Data"
   ]
  },
  {
   "cell_type": "markdown",
   "id": "001962ba",
   "metadata": {},
   "source": [
    "<a id=\"cont\"></a>\n",
    "\n",
    "### Table of Contents\n",
    "\n",
    "<a href=#one>1. Importing Packages</a>\n",
    "\n",
    "<a href=#two>2. Loading the Data</a>\n",
    "\n",
    "<a href=#three>3. Data Cleaning & Preprocessing</a>\n",
    "\n",
    "<a href=#four>4. Exploratory Data Analysis</a>\n",
    "\n",
    "<a href=#five>5. Hypothesis Testing</a>\n",
    "\n",
    "<a href=#six>6. Recommendation</a>"
   ]
  },
  {
   "cell_type": "markdown",
   "id": "a1c2de6f",
   "metadata": {},
   "source": [
    "### 1. Importing Packages\n",
    "<a class=\"anchor\" id=\"1.1\"></a>\n",
    "<a href=#cont>Back to Table of Contents</a>"
   ]
  },
  {
   "cell_type": "code",
   "execution_count": 1,
   "id": "502b09c4",
   "metadata": {},
   "outputs": [],
   "source": [
    "import warnings\n",
    "warnings.filterwarnings(\"ignore\", category=RuntimeWarning) \n",
    "import numpy as np \n",
    "from scipy import stats\n",
    "import pandas as pd\n",
    "import datetime\n",
    "import matplotlib.pyplot as plt\n",
    "from matplotlib import rc\n",
    "import seaborn as sns\n",
    "sns.set_theme(style=\"whitegrid\")"
   ]
  },
  {
   "cell_type": "code",
   "execution_count": 2,
   "id": "b370281e",
   "metadata": {},
   "outputs": [],
   "source": [
    "import os"
   ]
  },
  {
   "cell_type": "code",
   "execution_count": 4,
   "id": "f204ac1e",
   "metadata": {},
   "outputs": [
    {
     "name": "stdout",
     "output_type": "stream",
     "text": [
      "['.ipynb_checkpoints', 'Data', 'Deliverables.pdf', 'Week 8.ipynb']\n"
     ]
    }
   ],
   "source": [
    "print(os.listdir(os.getcwd()))"
   ]
  },
  {
   "cell_type": "markdown",
   "id": "612c9e48",
   "metadata": {},
   "source": [
    "### 2. Loading the Data\n",
    "<a class=\"anchor\" id=\"1.1\"></a>\n",
    "<a href=#cont>Back to Table of Contents</a>"
   ]
  },
  {
   "cell_type": "code",
   "execution_count": 32,
   "id": "757daa0c",
   "metadata": {},
   "outputs": [],
   "source": [
    "bank_old = pd.read_csv('Data/bank.csv')\n",
    "bank_full_old = pd.read_csv('Data/bank-full.csv')\n",
    "bank_sample = pd.read_csv('Data/bank-additional.csv')\n",
    "bank_df = pd.read_csv('Data/bank-additional-full.csv')"
   ]
  },
  {
   "cell_type": "markdown",
   "id": "3afe3a2f",
   "metadata": {},
   "source": [
    "### 3. Basic Data Exploration\n",
    "<a class=\"anchor\" id=\"1.1\"></a>\n",
    "<a href=#cont>Back to Table of Contents</a>"
   ]
  },
  {
   "cell_type": "markdown",
   "id": "07e314c5",
   "metadata": {},
   "source": [
    "### 1 - bank_sample\n",
    "Bank_sample is a random 10% sample of bank_df."
   ]
  },
  {
   "cell_type": "code",
   "execution_count": 35,
   "id": "f336047c",
   "metadata": {},
   "outputs": [
    {
     "data": {
      "text/html": [
       "<div>\n",
       "<style scoped>\n",
       "    .dataframe tbody tr th:only-of-type {\n",
       "        vertical-align: middle;\n",
       "    }\n",
       "\n",
       "    .dataframe tbody tr th {\n",
       "        vertical-align: top;\n",
       "    }\n",
       "\n",
       "    .dataframe thead th {\n",
       "        text-align: right;\n",
       "    }\n",
       "</style>\n",
       "<table border=\"1\" class=\"dataframe\">\n",
       "  <thead>\n",
       "    <tr style=\"text-align: right;\">\n",
       "      <th></th>\n",
       "      <th>age;\"job\";\"marital\";\"education\";\"default\";\"housing\";\"loan\";\"contact\";\"month\";\"day_of_week\";\"duration\";\"campaign\";\"pdays\";\"previous\";\"poutcome\";\"emp.var.rate\";\"cons.price.idx\";\"cons.conf.idx\";\"euribor3m\";\"nr.employed\";\"y\"</th>\n",
       "    </tr>\n",
       "  </thead>\n",
       "  <tbody>\n",
       "    <tr>\n",
       "      <th>0</th>\n",
       "      <td>30;\"blue-collar\";\"married\";\"basic.9y\";\"no\";\"ye...</td>\n",
       "    </tr>\n",
       "    <tr>\n",
       "      <th>1</th>\n",
       "      <td>39;\"services\";\"single\";\"high.school\";\"no\";\"no\"...</td>\n",
       "    </tr>\n",
       "    <tr>\n",
       "      <th>2</th>\n",
       "      <td>25;\"services\";\"married\";\"high.school\";\"no\";\"ye...</td>\n",
       "    </tr>\n",
       "  </tbody>\n",
       "</table>\n",
       "</div>"
      ],
      "text/plain": [
       "  age;\"job\";\"marital\";\"education\";\"default\";\"housing\";\"loan\";\"contact\";\"month\";\"day_of_week\";\"duration\";\"campaign\";\"pdays\";\"previous\";\"poutcome\";\"emp.var.rate\";\"cons.price.idx\";\"cons.conf.idx\";\"euribor3m\";\"nr.employed\";\"y\"\n",
       "0  30;\"blue-collar\";\"married\";\"basic.9y\";\"no\";\"ye...                                                                                                                                                                          \n",
       "1  39;\"services\";\"single\";\"high.school\";\"no\";\"no\"...                                                                                                                                                                          \n",
       "2  25;\"services\";\"married\";\"high.school\";\"no\";\"ye...                                                                                                                                                                          "
      ]
     },
     "execution_count": 35,
     "metadata": {},
     "output_type": "execute_result"
    }
   ],
   "source": [
    "bank_sample.head(3)"
   ]
  }
 ],
 "metadata": {
  "kernelspec": {
   "display_name": "Python 3",
   "language": "python",
   "name": "python3"
  },
  "language_info": {
   "codemirror_mode": {
    "name": "ipython",
    "version": 3
   },
   "file_extension": ".py",
   "mimetype": "text/x-python",
   "name": "python",
   "nbconvert_exporter": "python",
   "pygments_lexer": "ipython3",
   "version": "3.8.8"
  }
 },
 "nbformat": 4,
 "nbformat_minor": 5
}
