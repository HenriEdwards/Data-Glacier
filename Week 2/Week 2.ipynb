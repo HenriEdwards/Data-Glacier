{
 "cells": [
  {
   "cell_type": "markdown",
   "id": "8fa567dd",
   "metadata": {},
   "source": [
    "## G2M insight for Cab Investment firm\n",
    "Data Glacier - Henri Edwards\n",
    "\n",
    "The Client XYZ is a private firm in US. Due to remarkable growth in the Cab Industry in last few years and multiple key players in the market, it is planning for an investment in Cab industry and as per their Go-to-Market(G2M) strategy they want to understand the market before taking final decision.\n",
    "\n",
    "Datasets contain information on 2 cab companies. Each file (data set) provided represents different aspects of the customer profile. XYZ is interested in using your actionable insights to help them identify the right company to make their investment."
   ]
  },
  {
   "cell_type": "markdown",
   "id": "001962ba",
   "metadata": {},
   "source": [
    "<a id=\"cont\"></a>\n",
    "\n",
    "### Table of Contents\n",
    "\n",
    "<a href=#one>1. Importing Packages</a>\n",
    "\n",
    "<a href=#two>2. Loading the Data</a>\n",
    "\n",
    "<a href=#three>3. Data Cleaning & Preprocessing</a>\n",
    "\n",
    "<a href=#four>4. Exploratory Data Analysis</a>\n",
    "\n",
    "<a href=#five>5. Hypothesis Testing</a>\n",
    "\n",
    "<a href=#six>6. Recommendation</a>"
   ]
  },
  {
   "cell_type": "markdown",
   "id": "a1c2de6f",
   "metadata": {},
   "source": [
    "### 1. Importing Packages\n",
    "<a class=\"anchor\" id=\"1.1\"></a>\n",
    "<a href=#cont>Back to Table of Contents</a>"
   ]
  },
  {
   "cell_type": "code",
   "execution_count": 1,
   "id": "502b09c4",
   "metadata": {},
   "outputs": [],
   "source": [
    "import warnings\n",
    "warnings.filterwarnings(\"ignore\", category=RuntimeWarning) \n",
    "\n",
    "import numpy as np \n",
    "from scipy import stats\n",
    "import pandas as pd\n",
    "import datetime\n",
    "\n",
    "import matplotlib.pyplot as plt\n",
    "from matplotlib import rc\n",
    "\n",
    "import seaborn as sns\n",
    "\n",
    "import plotly.express as px\n",
    "import plotly.graph_objs as go\n",
    "import plotly\n",
    "from plotly.subplots import make_subplots\n",
    "import plotly.graph_objects as go\n",
    "import datetime\n",
    "\n",
    "import plotly.offline as pyo\n",
    "\n",
    "import plotly.io as pio\n",
    "\n",
    "sns.set_theme(style=\"whitegrid\")"
   ]
  },
  {
   "cell_type": "code",
   "execution_count": 2,
   "id": "2be8b1bd",
   "metadata": {},
   "outputs": [],
   "source": [
    "import plotly.io as pio"
   ]
  },
  {
   "cell_type": "markdown",
   "id": "612c9e48",
   "metadata": {},
   "source": [
    "### 2. Loading the Data\n",
    "<a class=\"anchor\" id=\"1.1\"></a>\n",
    "<a href=#cont>Back to Table of Contents</a>"
   ]
  },
  {
   "cell_type": "markdown",
   "id": "2c6b9674",
   "metadata": {},
   "source": [
    "- **Cab_Data.csv** – this file includes details of transaction for 2 cab companies\n",
    "- **Customer_ID.csv** – this is a mapping table that contains a unique identifier which links the customer’s demographic details\n",
    "- **Transaction_ID.csv** – this is a mapping table that contains transaction to customer mapping and payment mode\n",
    "- **City.csv – this file** contains list of US cities, their population and number of cab users"
   ]
  },
  {
   "cell_type": "code",
   "execution_count": 3,
   "id": "757daa0c",
   "metadata": {},
   "outputs": [],
   "source": [
    "cab_data = pd.read_csv('Cab_Data.csv')\n",
    "city_data = pd.read_csv('City.csv')\n",
    "customer_id = pd.read_csv('Customer_ID.csv')\n",
    "transaction_id = pd.read_csv('Transaction_ID.csv')"
   ]
  },
  {
   "cell_type": "code",
   "execution_count": 4,
   "id": "3559d668",
   "metadata": {},
   "outputs": [
    {
     "data": {
      "text/html": [
       "<div>\n",
       "<style scoped>\n",
       "    .dataframe tbody tr th:only-of-type {\n",
       "        vertical-align: middle;\n",
       "    }\n",
       "\n",
       "    .dataframe tbody tr th {\n",
       "        vertical-align: top;\n",
       "    }\n",
       "\n",
       "    .dataframe thead th {\n",
       "        text-align: right;\n",
       "    }\n",
       "</style>\n",
       "<table border=\"1\" class=\"dataframe\">\n",
       "  <thead>\n",
       "    <tr style=\"text-align: right;\">\n",
       "      <th></th>\n",
       "      <th>Transaction ID</th>\n",
       "      <th>Date of Travel</th>\n",
       "      <th>Company</th>\n",
       "      <th>City</th>\n",
       "      <th>KM Travelled</th>\n",
       "      <th>Price Charged</th>\n",
       "      <th>Cost of Trip</th>\n",
       "    </tr>\n",
       "  </thead>\n",
       "  <tbody>\n",
       "    <tr>\n",
       "      <th>0</th>\n",
       "      <td>10000011</td>\n",
       "      <td>08-01-2016</td>\n",
       "      <td>Pink Cab</td>\n",
       "      <td>ATLANTA GA</td>\n",
       "      <td>30.45</td>\n",
       "      <td>370.95</td>\n",
       "      <td>313.635</td>\n",
       "    </tr>\n",
       "    <tr>\n",
       "      <th>1</th>\n",
       "      <td>10000012</td>\n",
       "      <td>06-01-2016</td>\n",
       "      <td>Pink Cab</td>\n",
       "      <td>ATLANTA GA</td>\n",
       "      <td>28.62</td>\n",
       "      <td>358.52</td>\n",
       "      <td>334.854</td>\n",
       "    </tr>\n",
       "    <tr>\n",
       "      <th>2</th>\n",
       "      <td>10000013</td>\n",
       "      <td>02-01-2016</td>\n",
       "      <td>Pink Cab</td>\n",
       "      <td>ATLANTA GA</td>\n",
       "      <td>9.04</td>\n",
       "      <td>125.20</td>\n",
       "      <td>97.632</td>\n",
       "    </tr>\n",
       "  </tbody>\n",
       "</table>\n",
       "</div>"
      ],
      "text/plain": [
       "   Transaction ID Date of Travel   Company        City  KM Travelled  \\\n",
       "0        10000011     08-01-2016  Pink Cab  ATLANTA GA         30.45   \n",
       "1        10000012     06-01-2016  Pink Cab  ATLANTA GA         28.62   \n",
       "2        10000013     02-01-2016  Pink Cab  ATLANTA GA          9.04   \n",
       "\n",
       "   Price Charged  Cost of Trip  \n",
       "0         370.95       313.635  \n",
       "1         358.52       334.854  \n",
       "2         125.20        97.632  "
      ]
     },
     "execution_count": 4,
     "metadata": {},
     "output_type": "execute_result"
    }
   ],
   "source": [
    "cab_data.head(3)"
   ]
  },
  {
   "cell_type": "code",
   "execution_count": 5,
   "id": "f087cacc",
   "metadata": {},
   "outputs": [
    {
     "data": {
      "text/html": [
       "<div>\n",
       "<style scoped>\n",
       "    .dataframe tbody tr th:only-of-type {\n",
       "        vertical-align: middle;\n",
       "    }\n",
       "\n",
       "    .dataframe tbody tr th {\n",
       "        vertical-align: top;\n",
       "    }\n",
       "\n",
       "    .dataframe thead th {\n",
       "        text-align: right;\n",
       "    }\n",
       "</style>\n",
       "<table border=\"1\" class=\"dataframe\">\n",
       "  <thead>\n",
       "    <tr style=\"text-align: right;\">\n",
       "      <th></th>\n",
       "      <th>City</th>\n",
       "      <th>Population</th>\n",
       "      <th>Users</th>\n",
       "    </tr>\n",
       "  </thead>\n",
       "  <tbody>\n",
       "    <tr>\n",
       "      <th>0</th>\n",
       "      <td>NEW YORK NY</td>\n",
       "      <td>8,405,837</td>\n",
       "      <td>302,149</td>\n",
       "    </tr>\n",
       "    <tr>\n",
       "      <th>1</th>\n",
       "      <td>CHICAGO IL</td>\n",
       "      <td>1,955,130</td>\n",
       "      <td>164,468</td>\n",
       "    </tr>\n",
       "    <tr>\n",
       "      <th>2</th>\n",
       "      <td>LOS ANGELES CA</td>\n",
       "      <td>1,595,037</td>\n",
       "      <td>144,132</td>\n",
       "    </tr>\n",
       "  </tbody>\n",
       "</table>\n",
       "</div>"
      ],
      "text/plain": [
       "             City   Population      Users\n",
       "0     NEW YORK NY   8,405,837    302,149 \n",
       "1      CHICAGO IL   1,955,130    164,468 \n",
       "2  LOS ANGELES CA   1,595,037    144,132 "
      ]
     },
     "execution_count": 5,
     "metadata": {},
     "output_type": "execute_result"
    }
   ],
   "source": [
    "city_data.head(3)"
   ]
  },
  {
   "cell_type": "code",
   "execution_count": 6,
   "id": "9154b695",
   "metadata": {},
   "outputs": [
    {
     "data": {
      "text/html": [
       "<div>\n",
       "<style scoped>\n",
       "    .dataframe tbody tr th:only-of-type {\n",
       "        vertical-align: middle;\n",
       "    }\n",
       "\n",
       "    .dataframe tbody tr th {\n",
       "        vertical-align: top;\n",
       "    }\n",
       "\n",
       "    .dataframe thead th {\n",
       "        text-align: right;\n",
       "    }\n",
       "</style>\n",
       "<table border=\"1\" class=\"dataframe\">\n",
       "  <thead>\n",
       "    <tr style=\"text-align: right;\">\n",
       "      <th></th>\n",
       "      <th>Customer ID</th>\n",
       "      <th>Gender</th>\n",
       "      <th>Age</th>\n",
       "      <th>Income (USD/Month)</th>\n",
       "    </tr>\n",
       "  </thead>\n",
       "  <tbody>\n",
       "    <tr>\n",
       "      <th>0</th>\n",
       "      <td>29290</td>\n",
       "      <td>Male</td>\n",
       "      <td>28</td>\n",
       "      <td>10813</td>\n",
       "    </tr>\n",
       "    <tr>\n",
       "      <th>1</th>\n",
       "      <td>27703</td>\n",
       "      <td>Male</td>\n",
       "      <td>27</td>\n",
       "      <td>9237</td>\n",
       "    </tr>\n",
       "    <tr>\n",
       "      <th>2</th>\n",
       "      <td>28712</td>\n",
       "      <td>Male</td>\n",
       "      <td>53</td>\n",
       "      <td>11242</td>\n",
       "    </tr>\n",
       "  </tbody>\n",
       "</table>\n",
       "</div>"
      ],
      "text/plain": [
       "   Customer ID Gender  Age  Income (USD/Month)\n",
       "0        29290   Male   28               10813\n",
       "1        27703   Male   27                9237\n",
       "2        28712   Male   53               11242"
      ]
     },
     "execution_count": 6,
     "metadata": {},
     "output_type": "execute_result"
    }
   ],
   "source": [
    "customer_id.head(3)"
   ]
  },
  {
   "cell_type": "code",
   "execution_count": 7,
   "id": "17a55add",
   "metadata": {},
   "outputs": [
    {
     "data": {
      "text/html": [
       "<div>\n",
       "<style scoped>\n",
       "    .dataframe tbody tr th:only-of-type {\n",
       "        vertical-align: middle;\n",
       "    }\n",
       "\n",
       "    .dataframe tbody tr th {\n",
       "        vertical-align: top;\n",
       "    }\n",
       "\n",
       "    .dataframe thead th {\n",
       "        text-align: right;\n",
       "    }\n",
       "</style>\n",
       "<table border=\"1\" class=\"dataframe\">\n",
       "  <thead>\n",
       "    <tr style=\"text-align: right;\">\n",
       "      <th></th>\n",
       "      <th>Transaction ID</th>\n",
       "      <th>Customer ID</th>\n",
       "      <th>Payment_Mode</th>\n",
       "    </tr>\n",
       "  </thead>\n",
       "  <tbody>\n",
       "    <tr>\n",
       "      <th>0</th>\n",
       "      <td>10000011</td>\n",
       "      <td>29290</td>\n",
       "      <td>Card</td>\n",
       "    </tr>\n",
       "    <tr>\n",
       "      <th>1</th>\n",
       "      <td>10000012</td>\n",
       "      <td>27703</td>\n",
       "      <td>Card</td>\n",
       "    </tr>\n",
       "    <tr>\n",
       "      <th>2</th>\n",
       "      <td>10000013</td>\n",
       "      <td>28712</td>\n",
       "      <td>Cash</td>\n",
       "    </tr>\n",
       "  </tbody>\n",
       "</table>\n",
       "</div>"
      ],
      "text/plain": [
       "   Transaction ID  Customer ID Payment_Mode\n",
       "0        10000011        29290         Card\n",
       "1        10000012        27703         Card\n",
       "2        10000013        28712         Cash"
      ]
     },
     "execution_count": 7,
     "metadata": {},
     "output_type": "execute_result"
    }
   ],
   "source": [
    "transaction_id.head(3)"
   ]
  },
  {
   "cell_type": "markdown",
   "id": "dff6c1ba",
   "metadata": {},
   "source": [
    "### 3. Data Cleaning & Preprocessing\n",
    "<a class=\"anchor\" id=\"1.1\"></a>\n",
    "<a href=#cont>Back to Table of Contents</a>"
   ]
  },
  {
   "cell_type": "markdown",
   "id": "313b281d",
   "metadata": {},
   "source": [
    "- Merge/Create necessary dataframes\n",
    "\n",
    "- Inspect Null values\n",
    "\n",
    "- Inspect Data Types\n",
    "\n",
    "- Feature Engineering"
   ]
  },
  {
   "cell_type": "code",
   "execution_count": 8,
   "id": "4228f06e",
   "metadata": {},
   "outputs": [],
   "source": [
    "# combine dataframes\n",
    "combined_df = cab_data.merge(transaction_id,on='Transaction ID').merge(customer_id,on='Customer ID').merge(city_data,on='City')"
   ]
  },
  {
   "cell_type": "code",
   "execution_count": 9,
   "id": "13189d64",
   "metadata": {},
   "outputs": [
    {
     "data": {
      "text/html": [
       "<div>\n",
       "<style scoped>\n",
       "    .dataframe tbody tr th:only-of-type {\n",
       "        vertical-align: middle;\n",
       "    }\n",
       "\n",
       "    .dataframe tbody tr th {\n",
       "        vertical-align: top;\n",
       "    }\n",
       "\n",
       "    .dataframe thead th {\n",
       "        text-align: right;\n",
       "    }\n",
       "</style>\n",
       "<table border=\"1\" class=\"dataframe\">\n",
       "  <thead>\n",
       "    <tr style=\"text-align: right;\">\n",
       "      <th></th>\n",
       "      <th>Transaction ID</th>\n",
       "      <th>Date of Travel</th>\n",
       "      <th>Company</th>\n",
       "      <th>City</th>\n",
       "      <th>KM Travelled</th>\n",
       "      <th>Price Charged</th>\n",
       "      <th>Cost of Trip</th>\n",
       "      <th>Customer ID</th>\n",
       "      <th>Payment_Mode</th>\n",
       "      <th>Gender</th>\n",
       "      <th>Age</th>\n",
       "      <th>Income (USD/Month)</th>\n",
       "      <th>Population</th>\n",
       "      <th>Users</th>\n",
       "    </tr>\n",
       "  </thead>\n",
       "  <tbody>\n",
       "    <tr>\n",
       "      <th>0</th>\n",
       "      <td>10000011</td>\n",
       "      <td>08-01-2016</td>\n",
       "      <td>Pink Cab</td>\n",
       "      <td>ATLANTA GA</td>\n",
       "      <td>30.45</td>\n",
       "      <td>370.95</td>\n",
       "      <td>313.6350</td>\n",
       "      <td>29290</td>\n",
       "      <td>Card</td>\n",
       "      <td>Male</td>\n",
       "      <td>28</td>\n",
       "      <td>10813</td>\n",
       "      <td>814,885</td>\n",
       "      <td>24,701</td>\n",
       "    </tr>\n",
       "    <tr>\n",
       "      <th>1</th>\n",
       "      <td>10351127</td>\n",
       "      <td>21-07-2018</td>\n",
       "      <td>Yellow Cab</td>\n",
       "      <td>ATLANTA GA</td>\n",
       "      <td>26.19</td>\n",
       "      <td>598.70</td>\n",
       "      <td>317.4228</td>\n",
       "      <td>29290</td>\n",
       "      <td>Cash</td>\n",
       "      <td>Male</td>\n",
       "      <td>28</td>\n",
       "      <td>10813</td>\n",
       "      <td>814,885</td>\n",
       "      <td>24,701</td>\n",
       "    </tr>\n",
       "    <tr>\n",
       "      <th>2</th>\n",
       "      <td>10412921</td>\n",
       "      <td>23-11-2018</td>\n",
       "      <td>Yellow Cab</td>\n",
       "      <td>ATLANTA GA</td>\n",
       "      <td>42.55</td>\n",
       "      <td>792.05</td>\n",
       "      <td>597.4020</td>\n",
       "      <td>29290</td>\n",
       "      <td>Card</td>\n",
       "      <td>Male</td>\n",
       "      <td>28</td>\n",
       "      <td>10813</td>\n",
       "      <td>814,885</td>\n",
       "      <td>24,701</td>\n",
       "    </tr>\n",
       "    <tr>\n",
       "      <th>3</th>\n",
       "      <td>10000012</td>\n",
       "      <td>06-01-2016</td>\n",
       "      <td>Pink Cab</td>\n",
       "      <td>ATLANTA GA</td>\n",
       "      <td>28.62</td>\n",
       "      <td>358.52</td>\n",
       "      <td>334.8540</td>\n",
       "      <td>27703</td>\n",
       "      <td>Card</td>\n",
       "      <td>Male</td>\n",
       "      <td>27</td>\n",
       "      <td>9237</td>\n",
       "      <td>814,885</td>\n",
       "      <td>24,701</td>\n",
       "    </tr>\n",
       "    <tr>\n",
       "      <th>4</th>\n",
       "      <td>10320494</td>\n",
       "      <td>21-04-2018</td>\n",
       "      <td>Yellow Cab</td>\n",
       "      <td>ATLANTA GA</td>\n",
       "      <td>36.38</td>\n",
       "      <td>721.10</td>\n",
       "      <td>467.1192</td>\n",
       "      <td>27703</td>\n",
       "      <td>Card</td>\n",
       "      <td>Male</td>\n",
       "      <td>27</td>\n",
       "      <td>9237</td>\n",
       "      <td>814,885</td>\n",
       "      <td>24,701</td>\n",
       "    </tr>\n",
       "  </tbody>\n",
       "</table>\n",
       "</div>"
      ],
      "text/plain": [
       "   Transaction ID Date of Travel     Company        City  KM Travelled  \\\n",
       "0        10000011     08-01-2016    Pink Cab  ATLANTA GA         30.45   \n",
       "1        10351127     21-07-2018  Yellow Cab  ATLANTA GA         26.19   \n",
       "2        10412921     23-11-2018  Yellow Cab  ATLANTA GA         42.55   \n",
       "3        10000012     06-01-2016    Pink Cab  ATLANTA GA         28.62   \n",
       "4        10320494     21-04-2018  Yellow Cab  ATLANTA GA         36.38   \n",
       "\n",
       "   Price Charged  Cost of Trip  Customer ID Payment_Mode Gender  Age  \\\n",
       "0         370.95      313.6350        29290         Card   Male   28   \n",
       "1         598.70      317.4228        29290         Cash   Male   28   \n",
       "2         792.05      597.4020        29290         Card   Male   28   \n",
       "3         358.52      334.8540        27703         Card   Male   27   \n",
       "4         721.10      467.1192        27703         Card   Male   27   \n",
       "\n",
       "   Income (USD/Month) Population     Users  \n",
       "0               10813   814,885    24,701   \n",
       "1               10813   814,885    24,701   \n",
       "2               10813   814,885    24,701   \n",
       "3                9237   814,885    24,701   \n",
       "4                9237   814,885    24,701   "
      ]
     },
     "execution_count": 9,
     "metadata": {},
     "output_type": "execute_result"
    }
   ],
   "source": [
    "combined_df.head(5)"
   ]
  },
  {
   "cell_type": "code",
   "execution_count": 10,
   "id": "e47560c5",
   "metadata": {},
   "outputs": [
    {
     "data": {
      "text/plain": [
       "Transaction ID        0\n",
       "Date of Travel        0\n",
       "Company               0\n",
       "City                  0\n",
       "KM Travelled          0\n",
       "Price Charged         0\n",
       "Cost of Trip          0\n",
       "Customer ID           0\n",
       "Payment_Mode          0\n",
       "Gender                0\n",
       "Age                   0\n",
       "Income (USD/Month)    0\n",
       "Population            0\n",
       "Users                 0\n",
       "dtype: int64"
      ]
     },
     "execution_count": 10,
     "metadata": {},
     "output_type": "execute_result"
    }
   ],
   "source": [
    "# view total null values per feature\n",
    "combined_df.isnull().sum()"
   ]
  },
  {
   "cell_type": "code",
   "execution_count": 11,
   "id": "ad2549f4",
   "metadata": {},
   "outputs": [
    {
     "data": {
      "text/plain": [
       "Transaction ID          int64\n",
       "Date of Travel         object\n",
       "Company                object\n",
       "City                   object\n",
       "KM Travelled          float64\n",
       "Price Charged         float64\n",
       "Cost of Trip          float64\n",
       "Customer ID             int64\n",
       "Payment_Mode           object\n",
       "Gender                 object\n",
       "Age                     int64\n",
       "Income (USD/Month)      int64\n",
       "Population             object\n",
       "Users                  object\n",
       "dtype: object"
      ]
     },
     "execution_count": 11,
     "metadata": {},
     "output_type": "execute_result"
    }
   ],
   "source": [
    "combined_df.dtypes"
   ]
  },
  {
   "cell_type": "code",
   "execution_count": 12,
   "id": "76257076",
   "metadata": {},
   "outputs": [],
   "source": [
    "# Date of Travel is currently viewed as an object by Pandas, we need to convert it to a datetime object.\n",
    "combined_df['Date of Travel'] = pd.to_datetime(combined_df['Date of Travel'], format='%d-%m-%Y')"
   ]
  },
  {
   "cell_type": "code",
   "execution_count": 13,
   "id": "3bdb8f0e",
   "metadata": {},
   "outputs": [],
   "source": [
    "# Convert relevant features from object to numerical data types\n",
    "combined_df['Population'] = combined_df['Population'].replace(',','', regex=True)\n",
    "combined_df['Population'] = combined_df['Population'].astype('int64')\n",
    "combined_df['Users'] = combined_df['Users'].replace(',','', regex=True)\n",
    "combined_df['Users'] = combined_df['Users'].astype('int64')"
   ]
  },
  {
   "cell_type": "code",
   "execution_count": 14,
   "id": "16f9971a",
   "metadata": {},
   "outputs": [],
   "source": [
    "# Replace spaces with '_' in features\n",
    "for col in combined_df.columns:\n",
    "    if ' ' in col:\n",
    "        combined_df = combined_df.rename(columns={col:col.replace(' ','_')})"
   ]
  },
  {
   "cell_type": "code",
   "execution_count": 15,
   "id": "2ce0f53e",
   "metadata": {},
   "outputs": [],
   "source": [
    "# Create profit feature - Price - Expense\n",
    "combined_df['Profit'] = round(combined_df['Price_Charged'] - combined_df['Cost_of_Trip'],2)"
   ]
  },
  {
   "cell_type": "code",
   "execution_count": 16,
   "id": "e053085d",
   "metadata": {},
   "outputs": [],
   "source": [
    "# Change Income_(USD/Month) to more useful name\n",
    "combined_df.rename(columns = {'Income_(USD/Month)':'income_usd_pm'}, inplace = True)"
   ]
  },
  {
   "cell_type": "code",
   "execution_count": 17,
   "id": "f8925fdf",
   "metadata": {},
   "outputs": [
    {
     "data": {
      "text/plain": [
       "2"
      ]
     },
     "execution_count": 17,
     "metadata": {},
     "output_type": "execute_result"
    }
   ],
   "source": [
    "# Data for only Pink Cab & Yellow Cab Companies.\n",
    "combined_df['Company'].nunique()"
   ]
  },
  {
   "cell_type": "code",
   "execution_count": 18,
   "id": "927839ed",
   "metadata": {},
   "outputs": [
    {
     "data": {
      "text/html": [
       "<div>\n",
       "<style scoped>\n",
       "    .dataframe tbody tr th:only-of-type {\n",
       "        vertical-align: middle;\n",
       "    }\n",
       "\n",
       "    .dataframe tbody tr th {\n",
       "        vertical-align: top;\n",
       "    }\n",
       "\n",
       "    .dataframe thead th {\n",
       "        text-align: right;\n",
       "    }\n",
       "</style>\n",
       "<table border=\"1\" class=\"dataframe\">\n",
       "  <thead>\n",
       "    <tr style=\"text-align: right;\">\n",
       "      <th></th>\n",
       "      <th>Transaction_ID</th>\n",
       "      <th>Date_of_Travel</th>\n",
       "      <th>Company</th>\n",
       "      <th>City</th>\n",
       "      <th>KM_Travelled</th>\n",
       "      <th>Price_Charged</th>\n",
       "      <th>Cost_of_Trip</th>\n",
       "      <th>Customer_ID</th>\n",
       "      <th>Payment_Mode</th>\n",
       "      <th>Gender</th>\n",
       "      <th>Age</th>\n",
       "      <th>income_usd_pm</th>\n",
       "      <th>Population</th>\n",
       "      <th>Users</th>\n",
       "      <th>Profit</th>\n",
       "    </tr>\n",
       "  </thead>\n",
       "  <tbody>\n",
       "    <tr>\n",
       "      <th>0</th>\n",
       "      <td>10000011</td>\n",
       "      <td>2016-01-08</td>\n",
       "      <td>Pink Cab</td>\n",
       "      <td>ATLANTA GA</td>\n",
       "      <td>30.45</td>\n",
       "      <td>370.95</td>\n",
       "      <td>313.6350</td>\n",
       "      <td>29290</td>\n",
       "      <td>Card</td>\n",
       "      <td>Male</td>\n",
       "      <td>28</td>\n",
       "      <td>10813</td>\n",
       "      <td>814885</td>\n",
       "      <td>24701</td>\n",
       "      <td>57.32</td>\n",
       "    </tr>\n",
       "    <tr>\n",
       "      <th>1</th>\n",
       "      <td>10351127</td>\n",
       "      <td>2018-07-21</td>\n",
       "      <td>Yellow Cab</td>\n",
       "      <td>ATLANTA GA</td>\n",
       "      <td>26.19</td>\n",
       "      <td>598.70</td>\n",
       "      <td>317.4228</td>\n",
       "      <td>29290</td>\n",
       "      <td>Cash</td>\n",
       "      <td>Male</td>\n",
       "      <td>28</td>\n",
       "      <td>10813</td>\n",
       "      <td>814885</td>\n",
       "      <td>24701</td>\n",
       "      <td>281.28</td>\n",
       "    </tr>\n",
       "  </tbody>\n",
       "</table>\n",
       "</div>"
      ],
      "text/plain": [
       "   Transaction_ID Date_of_Travel     Company        City  KM_Travelled  \\\n",
       "0        10000011     2016-01-08    Pink Cab  ATLANTA GA         30.45   \n",
       "1        10351127     2018-07-21  Yellow Cab  ATLANTA GA         26.19   \n",
       "\n",
       "   Price_Charged  Cost_of_Trip  Customer_ID Payment_Mode Gender  Age  \\\n",
       "0         370.95      313.6350        29290         Card   Male   28   \n",
       "1         598.70      317.4228        29290         Cash   Male   28   \n",
       "\n",
       "   income_usd_pm  Population  Users  Profit  \n",
       "0          10813      814885  24701   57.32  \n",
       "1          10813      814885  24701  281.28  "
      ]
     },
     "execution_count": 18,
     "metadata": {},
     "output_type": "execute_result"
    }
   ],
   "source": [
    "combined_df.head(2)"
   ]
  },
  {
   "cell_type": "code",
   "execution_count": 19,
   "id": "e85ec3a0",
   "metadata": {},
   "outputs": [
    {
     "ename": "NameError",
     "evalue": "name 'years' is not defined",
     "output_type": "error",
     "traceback": [
      "\u001b[1;31m---------------------------------------------------------------------------\u001b[0m",
      "\u001b[1;31mNameError\u001b[0m                                 Traceback (most recent call last)",
      "\u001b[1;32m<ipython-input-19-7890eb8b8a6d>\u001b[0m in \u001b[0;36m<module>\u001b[1;34m\u001b[0m\n\u001b[0;32m      6\u001b[0m     \u001b[0myear\u001b[0m\u001b[1;33m.\u001b[0m\u001b[0mappend\u001b[0m\u001b[1;33m(\u001b[0m\u001b[0mcombined_df\u001b[0m\u001b[1;33m[\u001b[0m\u001b[1;34m'Date_of_Travel'\u001b[0m\u001b[1;33m]\u001b[0m\u001b[1;33m[\u001b[0m\u001b[0mi\u001b[0m\u001b[1;33m]\u001b[0m\u001b[1;33m.\u001b[0m\u001b[0myear\u001b[0m\u001b[1;33m)\u001b[0m\u001b[1;33m\u001b[0m\u001b[1;33m\u001b[0m\u001b[0m\n\u001b[0;32m      7\u001b[0m \u001b[0mcombined_df\u001b[0m\u001b[1;33m[\u001b[0m\u001b[1;34m'Month'\u001b[0m\u001b[1;33m]\u001b[0m \u001b[1;33m=\u001b[0m \u001b[0mmonth\u001b[0m\u001b[1;33m\u001b[0m\u001b[1;33m\u001b[0m\u001b[0m\n\u001b[1;32m----> 8\u001b[1;33m \u001b[0mcombined_df\u001b[0m\u001b[1;33m[\u001b[0m\u001b[1;34m'Year'\u001b[0m\u001b[1;33m]\u001b[0m \u001b[1;33m=\u001b[0m \u001b[0myears\u001b[0m\u001b[1;33m\u001b[0m\u001b[1;33m\u001b[0m\u001b[0m\n\u001b[0m",
      "\u001b[1;31mNameError\u001b[0m: name 'years' is not defined"
     ]
    }
   ],
   "source": [
    "# Extract/Create Month & year feature\n",
    "month=[]\n",
    "year =[]\n",
    "for i in range(len(combined_df['Date_of_Travel'])):\n",
    "    month.append(combined_df['Date_of_Travel'][i].month)\n",
    "    year.append(combined_df['Date_of_Travel'][i].year)\n",
    "combined_df['Month'] = month\n",
    "combined_df['Year'] = years"
   ]
  },
  {
   "cell_type": "code",
   "execution_count": null,
   "id": "ed30debb",
   "metadata": {},
   "outputs": [],
   "source": [
    "# Create dataframe for each company.\n",
    "pink_cab = combined_df[combined_df['Company'] == 'Pink Cab']\n",
    "yellow_cab = combined_df[combined_df['Company'] == 'Yellow Cab']"
   ]
  },
  {
   "cell_type": "code",
   "execution_count": null,
   "id": "63022d70",
   "metadata": {},
   "outputs": [],
   "source": [
    "pink_cab.head(3)"
   ]
  },
  {
   "cell_type": "code",
   "execution_count": null,
   "id": "e25e2c12",
   "metadata": {},
   "outputs": [],
   "source": [
    "yellow_cab.head(3)"
   ]
  },
  {
   "cell_type": "markdown",
   "id": "a99c3dd2",
   "metadata": {},
   "source": [
    "#### Data Cleaning Conclusions\n",
    "- No null values present in the data\n",
    "- Combined dataframes\n",
    "- Coverted necessary datatypes\n",
    "- Features Engineered"
   ]
  },
  {
   "cell_type": "markdown",
   "id": "318c6ff2",
   "metadata": {},
   "source": [
    "### 4. Exploratory Data Analysis (EDA)\n",
    "<a class=\"anchor\" id=\"1.1\"></a>\n",
    "<a href=#cont>Back to Table of Contents</a>\n",
    "\n",
    "- Basic Analysis\n",
    "- Payment Analysis\n",
    "- Gender Analysis\n",
    "- Age Analysis\n",
    "- City Analysis\n",
    "- Profit Analysis\n",
    "- Customer Analysis\n",
    "- Time Series Analysis"
   ]
  },
  {
   "cell_type": "code",
   "execution_count": null,
   "id": "88af37f4",
   "metadata": {},
   "outputs": [],
   "source": [
    "print(\"Yellow Cab dataframe has \"+ str(yellow_cab.shape[0]) + ' rows and '+ str(yellow_cab.shape[1]) + \" features\")"
   ]
  },
  {
   "cell_type": "code",
   "execution_count": null,
   "id": "2ca4ab04",
   "metadata": {},
   "outputs": [],
   "source": [
    "print(\"Pink Cab dataframe has \"+ str(pink_cab.shape[0]) + ' rows and '+ str(yellow_cab.shape[1]) + \" features\")"
   ]
  },
  {
   "cell_type": "code",
   "execution_count": null,
   "id": "765a7934",
   "metadata": {},
   "outputs": [],
   "source": [
    "combined_df.dtypes"
   ]
  },
  {
   "cell_type": "markdown",
   "id": "40181528",
   "metadata": {},
   "source": [
    "**Data Types** - 3 Main Data Types\n",
    "- **Categorical Data:**\n",
    "    - Company\n",
    "    - City\n",
    "    - Payment_Mode\n",
    "    - Gender\n",
    "- **Numerical data:**\n",
    "    - Transaction ID\n",
    "    - KM Travelled\n",
    "    - Price Charged\n",
    "    - Cost of Trip\n",
    "    - Customer ID\n",
    "    - Age\n",
    "    - Income (USD/Month)\n",
    "    - Population\n",
    "    - Users\n",
    "- **Datetime Data:**\n",
    "    - Date of Travel"
   ]
  },
  {
   "cell_type": "code",
   "execution_count": null,
   "id": "2d59b949",
   "metadata": {},
   "outputs": [],
   "source": [
    "pink_cab['Transaction_ID'].nunique()"
   ]
  },
  {
   "cell_type": "code",
   "execution_count": null,
   "id": "9d51868a",
   "metadata": {},
   "outputs": [],
   "source": [
    "yellow_cab['Transaction_ID'].nunique()"
   ]
  },
  {
   "cell_type": "markdown",
   "id": "26bf1743",
   "metadata": {},
   "source": [
    "- The yellow cab company has 189970 more transactions / sales over the same time period."
   ]
  },
  {
   "cell_type": "code",
   "execution_count": null,
   "id": "4f9d1ea9",
   "metadata": {},
   "outputs": [],
   "source": [
    "# only including useful features for statistical analysis - (excluding ID's, etc.)\n",
    "yellow_numerical = yellow_cab[['KM_Travelled', 'Price_Charged', 'Cost_of_Trip', 'Age', 'income_usd_pm']]\n",
    "pink_numerical = pink_cab[['KM_Travelled', 'Price_Charged', 'Cost_of_Trip', 'Age', 'income_usd_pm']]"
   ]
  },
  {
   "cell_type": "code",
   "execution_count": null,
   "id": "ad46a3a3",
   "metadata": {},
   "outputs": [],
   "source": [
    "yellow_numerical.describe()"
   ]
  },
  {
   "cell_type": "code",
   "execution_count": null,
   "id": "3ffe61b3",
   "metadata": {},
   "outputs": [],
   "source": [
    "pink_numerical.describe()"
   ]
  },
  {
   "cell_type": "markdown",
   "id": "84a1c5f8",
   "metadata": {},
   "source": [
    "- Yellow Cab company charged more on average per trip than the pink cab company."
   ]
  },
  {
   "cell_type": "markdown",
   "id": "08c1bf7a",
   "metadata": {},
   "source": [
    "**Skewness of Data**"
   ]
  },
  {
   "cell_type": "code",
   "execution_count": null,
   "id": "a2662107",
   "metadata": {},
   "outputs": [],
   "source": [
    "# View the symmetrical distribution of the data\n",
    "yellow_numerical.skew()"
   ]
  },
  {
   "cell_type": "code",
   "execution_count": null,
   "id": "a06f5b5f",
   "metadata": {},
   "outputs": [],
   "source": [
    "# View the symmetrical distribution of the data\n",
    "pink_numerical.skew()"
   ]
  },
  {
   "cell_type": "markdown",
   "id": "554f6717",
   "metadata": {},
   "source": [
    "**Observations**\n",
    "- KM_Travelled, Income_(USD/Month) & Cost_of_Trip has a fairly symmetrical distribution.\n",
    "- Price_Charged & Age appears to be moderately skewed in the positive direction.\n",
    "- No big differences between the cab companies, except the Yellow Cab's Price_Charged is less symmertrical than the Pink Cab's Price_Charged."
   ]
  },
  {
   "cell_type": "markdown",
   "id": "4ed61aa6",
   "metadata": {},
   "source": [
    "**kurtosis**"
   ]
  },
  {
   "cell_type": "code",
   "execution_count": null,
   "id": "83552cfb",
   "metadata": {},
   "outputs": [],
   "source": [
    "# Measure the outliers in the data\n",
    "yellow_numerical.kurtosis()"
   ]
  },
  {
   "cell_type": "code",
   "execution_count": null,
   "id": "9be0008a",
   "metadata": {},
   "outputs": [],
   "source": [
    "# Measure the outliers in the data\n",
    "pink_numerical.kurtosis()"
   ]
  },
  {
   "cell_type": "markdown",
   "id": "ad68883f",
   "metadata": {},
   "source": [
    "- Indicates a lack of outliers for the selected numerical features."
   ]
  },
  {
   "cell_type": "code",
   "execution_count": null,
   "id": "57be88ae",
   "metadata": {},
   "outputs": [],
   "source": [
    "pink_cab.head(3)"
   ]
  },
  {
   "cell_type": "code",
   "execution_count": null,
   "id": "d8118702",
   "metadata": {},
   "outputs": [],
   "source": [
    "yellow_cab.head(3)"
   ]
  },
  {
   "cell_type": "markdown",
   "id": "fa71844c",
   "metadata": {},
   "source": [
    "### Payment Method Analysis"
   ]
  },
  {
   "cell_type": "code",
   "execution_count": null,
   "id": "7ca95e1b",
   "metadata": {},
   "outputs": [],
   "source": [
    "# Plot customer payment method, cab company comparison\n",
    "\n",
    "plt.figure(figsize = (6, 8))\n",
    "ax = sns.countplot(x=\"Company\", hue=\"Payment_Mode\", data=combined_df)\n",
    "plt.title('Total Payments & Payment Method Compared', fontsize=15)\n",
    "plt.show()"
   ]
  },
  {
   "cell_type": "markdown",
   "id": "09f6606d",
   "metadata": {},
   "source": [
    "### Gender Analysis"
   ]
  },
  {
   "cell_type": "code",
   "execution_count": null,
   "id": "635103c8",
   "metadata": {},
   "outputs": [],
   "source": [
    "# Plot customer gender cab company comparison\n",
    "plt.figure(figsize = (6, 8))\n",
    "ax = sns.countplot(x=\"Company\", hue=\"Gender\", data=combined_df)\n",
    "plt.title('Gender Compared', fontsize=15)\n",
    "plt.show()"
   ]
  },
  {
   "cell_type": "markdown",
   "id": "366ba8f9",
   "metadata": {},
   "source": [
    "Charging Price - Gender Comparison"
   ]
  },
  {
   "cell_type": "code",
   "execution_count": null,
   "id": "3e74f9fb",
   "metadata": {},
   "outputs": [],
   "source": [
    "# Yellow Cab Company\n",
    "yellow_gender_mean = yellow_cab.groupby('Gender').mean()\n",
    "round(yellow_gender_mean['Price_Charged'], 2)"
   ]
  },
  {
   "cell_type": "code",
   "execution_count": null,
   "id": "bb3b04c3",
   "metadata": {},
   "outputs": [],
   "source": [
    "# Pink Cab Company\n",
    "pink_gender_mean = pink_cab.groupby('Gender').mean()\n",
    "round(pink_gender_mean['Price_Charged'], 2)"
   ]
  },
  {
   "cell_type": "markdown",
   "id": "70633c2c",
   "metadata": {},
   "source": [
    "- Price Charged for the customers of the pink cab company seems to be balanced across genders.\n",
    "- Price Charged for the customers of the yellow cab company seems to be mostly balanced."
   ]
  },
  {
   "cell_type": "markdown",
   "id": "08186636",
   "metadata": {},
   "source": [
    "### Transaction Analysis"
   ]
  },
  {
   "cell_type": "code",
   "execution_count": null,
   "id": "7d8904cb",
   "metadata": {},
   "outputs": [],
   "source": [
    "# Plot transaction of cab company's\n",
    "fig1 = combined_df[combined_df.Company=='Pink Cab'].groupby('Year').Transaction_ID.count()\n",
    "fig2 = combined_df[combined_df.Company=='Yellow Cab'].groupby('Year').Transaction_ID.count()\n",
    "plt.figure(figsize=(12,6))\n",
    "ax = plt.subplot(111)\n",
    "ax.bar(fig1.index-0.2, fig1.values, width=0.4, color='pink', align='center',label='Pink Cab')\n",
    "ax.bar(fig2.index+0.2, fig2.values, width=0.4, color='yellow', align='center',label='Yellow Cab')\n",
    "plt.title(\"Transaction History 2016-2018\", fontsize = 15)\n",
    "plt.ylabel('Number of Transactions',fontsize = 14)\n",
    "plt.xlabel('Year',fontsize = 14)\n",
    "plt.legend()\n",
    "plt.show()"
   ]
  },
  {
   "cell_type": "markdown",
   "id": "9ac04e7b",
   "metadata": {},
   "source": [
    "- From 2016-2018 Yellow Cab made considerably more transactions compared to Pink Cab.​"
   ]
  },
  {
   "cell_type": "markdown",
   "id": "8e791c08",
   "metadata": {},
   "source": [
    "### Distance Travelled Analysis"
   ]
  },
  {
   "cell_type": "code",
   "execution_count": null,
   "id": "70859c37",
   "metadata": {},
   "outputs": [],
   "source": [
    "# Plot distance travelled comparison\n",
    "fig1 = combined_df[combined_df.Company=='Pink Cab'].groupby('Year').KM_Travelled.sum()\n",
    "fig2 = combined_df[combined_df.Company=='Yellow Cab'].groupby('Year').KM_Travelled.sum()\n",
    "plt.figure(figsize=(12,6))\n",
    "ax = plt.subplot(111)\n",
    "ax.bar(fig1.index-0.2, fig1.values, width=0.4, color='pink', align='center',label='Pink Cab')\n",
    "ax.bar(fig2.index+0.2, fig2.values, width=0.4, color='yellow', align='center',label='Yellow Cab')\n",
    "plt.title(\"Total Distance Travelled 2016-2018\", fontsize = 15)\n",
    "plt.ylabel('Distance',fontsize = 14)\n",
    "plt.xlabel('Year',fontsize = 14)\n",
    "plt.legend()\n",
    "plt.show()"
   ]
  },
  {
   "cell_type": "markdown",
   "id": "893d1721",
   "metadata": {},
   "source": [
    "- From 2016-2018 Yellow Cab travelled considerably more compared to Pink Cab.​"
   ]
  },
  {
   "cell_type": "markdown",
   "id": "329f9c21",
   "metadata": {},
   "source": [
    "### Age Analysis"
   ]
  },
  {
   "cell_type": "code",
   "execution_count": null,
   "id": "43daded8",
   "metadata": {},
   "outputs": [],
   "source": [
    "# Group the ages into their respective categories and store in a dict\n",
    "youth = yellow_cab[(yellow_cab [\"Age\"] >= 18) & (yellow_cab [\"Age\"] < 25)].count()\n",
    "adults = yellow_cab[(yellow_cab [\"Age\"] >= 25) & (yellow_cab [\"Age\"] < 65)].count()\n",
    "seniors = yellow_cab[(yellow_cab [\"Age\"] >= 65) & (yellow_cab [\"Age\"] <= 200)].count()\n",
    "\n",
    "yellow_dict = {\"Youth 18-24\" : youth ,\"Adults 25-64\" : adults , \"Seniors 65+\" : seniors }\n",
    "\n",
    "youth = pink_cab[(pink_cab [\"Age\"] >= 18) & (pink_cab [\"Age\"] < 25)].count()\n",
    "adults = pink_cab[(pink_cab [\"Age\"] >= 25) & (pink_cab [\"Age\"] < 65)].count()\n",
    "seniors = pink_cab[(pink_cab [\"Age\"] >= 65) & (pink_cab [\"Age\"] <= 200)].count()\n",
    "\n",
    "pink_dict = {\"Youth 18-24\" : youth ,\"Adults 25-64\" : adults , \"Seniors 65+\" : seniors }\n",
    "\n",
    "pink_dict = pd.DataFrame(pink_dict).T\n",
    "yellow_dict = pd.DataFrame(yellow_dict).T"
   ]
  },
  {
   "cell_type": "code",
   "execution_count": null,
   "id": "43fe1706",
   "metadata": {},
   "outputs": [],
   "source": [
    "# Company User Comparison\n",
    "fig = make_subplots(rows=1, cols=2, specs=[[{\"type\": \"pie\"}, {\"type\": \"pie\"}]])\n",
    "\n",
    "\n",
    "fig.add_trace(go.Pie(\n",
    "     values=pink_dict.Users,\n",
    "     labels=pink_dict.index,title=\"Pink Cab Company\"), \n",
    "     row=1, col=1)\n",
    "fig.add_trace(go.Pie(\n",
    "     values=yellow_dict.Users,\n",
    "     labels=yellow_dict.index,title=\"Yellow Cab Company\"),\n",
    "    row=1, col=2)\n",
    "fig.update_layout(width=925, height=600, title_text=\"Cab Companies Customer Age Comparison\") \n",
    "fig.show(renderer=\"svg\")"
   ]
  },
  {
   "cell_type": "markdown",
   "id": "3b0ad1ff",
   "metadata": {},
   "source": [
    "- The biggest market for both companies appears to be Adults, followed by Youth and a small portion of Senior customers."
   ]
  },
  {
   "cell_type": "markdown",
   "id": "38bcd1fa",
   "metadata": {},
   "source": [
    "### City Analysis"
   ]
  },
  {
   "cell_type": "code",
   "execution_count": null,
   "id": "317307a0",
   "metadata": {},
   "outputs": [],
   "source": [
    "# Plot transactions by City\n",
    "combined_city = combined_df.groupby(\"City\").count()\n",
    "fig1 = px.pie(combined_city,\n",
    "                        values=combined_city.Users,\n",
    "                        names=combined_city.index ,title=\"Total Transactions by City\"\n",
    "                        )\n",
    "fig1.update_traces(     textposition='inside',\n",
    "                        textinfo='percent+label'\n",
    "                        )\n",
    "fig1.update_layout(width=950, height=600)\n",
    "fig1.show(renderer=\"svg\")"
   ]
  },
  {
   "cell_type": "code",
   "execution_count": null,
   "id": "3846d53d",
   "metadata": {},
   "outputs": [],
   "source": []
  },
  {
   "cell_type": "markdown",
   "id": "cd870465",
   "metadata": {},
   "source": [
    "- New York has the most transactions, followed by Chicago, Los Angeles, Washington and Boston etc."
   ]
  },
  {
   "cell_type": "code",
   "execution_count": null,
   "id": "5bd58fe8",
   "metadata": {},
   "outputs": [],
   "source": [
    "# Plot distance travelled by cities, companies comparison.\n",
    "city_data = city_data.reset_index()\n",
    "yellow_travel = yellow_cab.groupby(\"City\")['KM_Travelled'].sum()\n",
    "pink_travel = pink_cab.groupby(\"City\")['KM_Travelled'].sum()\n",
    "\n",
    "fig3 = make_subplots(rows=1, cols=2, specs=[[{\"type\": \"pie\"}, {\"type\": \"pie\"}]])\n",
    "fig3.add_trace(go.Pie(\n",
    "     values=yellow_travel,\n",
    "     labels=yellow_travel.index,title=\"Yellow Cab Company\",\n",
    "     name=\"Yellow Cab Company\",\n",
    "     textposition=\"inside\"), \n",
    "     row=1, col=1)\n",
    "fig3.add_trace(go.Pie(\n",
    "     values=pink_travel,\n",
    "     labels=pink_travel.index,title=\"Pink Cab Company\",\n",
    "     name=\"Pink Cab Company\"),\n",
    "    row=1, col=2)\n",
    "fig3.update_layout(width=925, height=600, title_text=\"KM Travelled by City, Company Comparison\") \n",
    "fig3.show(renderer=\"svg\")"
   ]
  },
  {
   "cell_type": "markdown",
   "id": "ced63b1c",
   "metadata": {},
   "source": [
    "- Pink Cab Company: Company is mostly active in Los Angeles, New York, San Diego, Chicago and Boston respectively.\n",
    "- Yellow Cab Company: Company is mostly active in New York, Chicago, Washington, Los Angeles and Boston respectively."
   ]
  },
  {
   "cell_type": "markdown",
   "id": "e049c05f",
   "metadata": {},
   "source": [
    "### Profit Analysis"
   ]
  },
  {
   "cell_type": "code",
   "execution_count": null,
   "id": "a485f59c",
   "metadata": {},
   "outputs": [],
   "source": [
    "# Plot total profit by city for each company\n",
    "\n",
    "yellow_city_profit = yellow_cab.groupby(\"City\").sum()\n",
    "pink_city_profit = pink_cab.groupby(\"City\").sum()\n",
    "colors = ['lightcyan', 'cyan']\n",
    "\n",
    "fig = make_subplots(rows=1, cols=2, specs=[[{\"type\": \"pie\"}, {\"type\": \"pie\"}]])\n",
    "\n",
    "\n",
    "fig.add_trace(go.Pie(\n",
    "     values=yellow_city_profit.Profit,\n",
    "     labels=yellow_city_profit.index,title=\"Yellow Cab Company\",\n",
    "     name=\"Yellow Cab Company\",\n",
    "     textposition=\"inside\"),\n",
    "     row=1, col=1)\n",
    "fig.add_trace(go.Pie(\n",
    "     values=pink_city_profit.Profit,\n",
    "     labels=pink_city_profit.index,title=\"Pink Cab Company\",\n",
    "     name=\"Pink Cab Company\",\n",
    "     textposition=\"inside\"), \n",
    "     row=1, col=2)\n",
    "fig.update_layout(width=950, height=600, title_text=\"Total profit by City, Cab company comparison\") #\n",
    "fig.show(renderer=\"svg\")"
   ]
  },
  {
   "cell_type": "code",
   "execution_count": null,
   "id": "e0f71ab8",
   "metadata": {},
   "outputs": [],
   "source": [
    "# Plot transaction of cab company's\n",
    "fig1 = combined_df[combined_df.Company=='Pink Cab'].groupby('Year').Profit.sum()\n",
    "fig2 = combined_df[combined_df.Company=='Yellow Cab'].groupby('Year').Profit.sum()\n",
    "plt.figure(figsize=(12,6))\n",
    "ax = plt.subplot(111)\n",
    "ax.bar(fig1.index-0.2, fig1.values, width=0.4, color='pink', align='center',label='Pink Cab')\n",
    "ax.bar(fig2.index+0.2, fig2.values, width=0.4, color='yellow', align='center',label='Yellow Cab')\n",
    "plt.title(\"Yearly Profit\", fontsize = 15)\n",
    "plt.ylabel('Profit',fontsize = 14)\n",
    "plt.xlabel('Year',fontsize = 14)\n",
    "plt.legend()\n",
    "plt.show()"
   ]
  },
  {
   "cell_type": "code",
   "execution_count": null,
   "id": "c19b4c59",
   "metadata": {},
   "outputs": [],
   "source": [
    "print('Yellow Cab Profit: $' + str(round(yellow_cab['Profit'].sum(),2)))"
   ]
  },
  {
   "cell_type": "code",
   "execution_count": null,
   "id": "9b60b804",
   "metadata": {},
   "outputs": [],
   "source": [
    "print('Pink Cab Profit: $' + str(round(pink_cab['Profit'].sum(),2)))"
   ]
  },
  {
   "cell_type": "code",
   "execution_count": null,
   "id": "e49a467c",
   "metadata": {},
   "outputs": [],
   "source": [
    "yellow_profit = yellow_cab['Profit'].sum()\n",
    "pink_profit = pink_cab['Profit'].sum()\n",
    "\n",
    "yellow_trans = yellow_cab['Transaction_ID'].nunique()\n",
    "pink_trans = pink_cab['Transaction_ID'].nunique()"
   ]
  },
  {
   "cell_type": "code",
   "execution_count": null,
   "id": "9deacbf5",
   "metadata": {},
   "outputs": [],
   "source": [
    "# Plot transaction of cab company's\n",
    "fig1 = combined_df[combined_df.Company=='Pink Cab'].groupby('Year').Profit.mean()\n",
    "fig2 = combined_df[combined_df.Company=='Yellow Cab'].groupby('Year').Profit.mean()\n",
    "plt.figure(figsize=(12,6))\n",
    "ax = plt.subplot(111)\n",
    "ax.bar(fig1.index-0.2, fig1.values, width=0.4, color='pink', align='center',label='Pink Cab')\n",
    "ax.bar(fig2.index+0.2, fig2.values, width=0.4, color='yellow', align='center',label='Yellow Cab')\n",
    "plt.title(\"Average Profit Per Transaction 2016-2018\", fontsize = 15)\n",
    "plt.ylabel('Profit',fontsize = 14)\n",
    "plt.xlabel('Year',fontsize = 14)\n",
    "plt.legend()\n",
    "plt.show()"
   ]
  },
  {
   "cell_type": "code",
   "execution_count": null,
   "id": "c1e6475b",
   "metadata": {},
   "outputs": [],
   "source": [
    "print('Yellow Cab has made $ ' + str(round(yellow_cab['Profit'].sum() - pink_cab['Profit'].sum(),2)) + ' more profit than the Pink Cab company over the same time period')"
   ]
  },
  {
   "cell_type": "markdown",
   "id": "4bccbb65",
   "metadata": {},
   "source": [
    "- More than halve of the Yellow Cab company's profit derives from New York.\n",
    "- Pink Cab company's profit mostly derives from New York, Los Angeles and San Diego.\n",
    "\n",
    "- Yellow Cab has made $ 38 713 044.08 more profit than the Pink Cab company over the same time period"
   ]
  },
  {
   "cell_type": "markdown",
   "id": "f5576679",
   "metadata": {},
   "source": [
    "### Customer Analysis"
   ]
  },
  {
   "cell_type": "code",
   "execution_count": null,
   "id": "d1cd799c",
   "metadata": {},
   "outputs": [],
   "source": [
    "# Returning Customers for Yellow and Pink Cab Companies\n",
    "pink_cab_customers = pink_cab.groupby(['Customer_ID'])['Transaction_ID'].count()\n",
    "pink_cab_customers = pd.DataFrame(pink_cab_customers)\n",
    "pink_cab_customers = pink_cab_customers.reset_index()\n",
    "\n",
    "yellow_cab_customers = yellow_cab.groupby(['Customer_ID'])['Transaction_ID'].count()\n",
    "yellow_cab_customers = pd.DataFrame(yellow_cab_customers)\n",
    "yellow_cab_customers = yellow_cab_customers.reset_index()\n",
    "\n",
    "pink_cab_customers.rename(columns = {'Transaction_ID':'Transactions'}, inplace = True)\n",
    "yellow_cab_customers.rename(columns = {'Transaction_ID':'Transactions'}, inplace = True)"
   ]
  },
  {
   "cell_type": "code",
   "execution_count": null,
   "id": "9650f5d1",
   "metadata": {},
   "outputs": [],
   "source": [
    "# Plot returning customer comparion\n",
    "plt.figure(figsize = (16, 8))\n",
    "plt.hist(yellow_cab_customers['Transactions'], color='Yellow', bins=10, label='Yellow Cab Company')\n",
    "plt.hist(pink_cab_customers['Transactions'], color='Pink', bins=10, label='Pink Cab Company')\n",
    "plt.gca().set(title='Customer Transaction Frequency', ylabel='Nr. of Customers', xlabel='Nr. of Cab Rides');\n",
    "plt.legend();"
   ]
  },
  {
   "cell_type": "code",
   "execution_count": null,
   "id": "cc2ab0df",
   "metadata": {},
   "outputs": [],
   "source": [
    "average_customer_pink = pink_cab_customers.mean()\n",
    "average_customer_yellow = yellow_cab_customers.mean()\n",
    "customer_company = [\"Pink Cab\",\"Yellow Cab\"]\n",
    "customerlist = [average_customer_pink, average_customer_yellow]"
   ]
  },
  {
   "cell_type": "code",
   "execution_count": null,
   "id": "f7bf99fa",
   "metadata": {},
   "outputs": [],
   "source": [
    "average_customer_yellow"
   ]
  },
  {
   "cell_type": "code",
   "execution_count": null,
   "id": "5b65cbc6",
   "metadata": {},
   "outputs": [],
   "source": [
    "average_customer_pink"
   ]
  },
  {
   "cell_type": "markdown",
   "id": "6fcf39db",
   "metadata": {},
   "source": [
    "- Average customer transactions at yellow cab company is 6.8, while pink cab company is 2.6."
   ]
  },
  {
   "cell_type": "markdown",
   "id": "75a354af",
   "metadata": {},
   "source": [
    "### Time Series Analysis"
   ]
  },
  {
   "cell_type": "code",
   "execution_count": null,
   "id": "6b650c6c",
   "metadata": {},
   "outputs": [],
   "source": [
    "# group transactions by dates for both companies.\n",
    "pink_cab_travel = pink_cab.groupby(['Date_of_Travel'])['Transaction_ID'].count()\n",
    "pink_cab_travel = pd.DataFrame(pink_cab_travel)\n",
    "pink_cab_travel = pink_cab_travel.reset_index()\n",
    "\n",
    "yellow_cab_travel = yellow_cab.groupby(['Date_of_Travel'])['Transaction_ID'].count()\n",
    "yellow_cab_travel = pd.DataFrame(yellow_cab_travel)\n",
    "yellow_cab_travel = yellow_cab_travel.reset_index()"
   ]
  },
  {
   "cell_type": "code",
   "execution_count": null,
   "id": "9ace76e3",
   "metadata": {},
   "outputs": [],
   "source": [
    "# plot transactions over time for pink cab company\n",
    "pink_cab_travel.plot(x='Date_of_Travel', \n",
    "           y= 'Transaction_ID', \n",
    "           kind='line',\n",
    "           figsize = (16,6), \n",
    "           title=\"Transactions Over Time for the Pink Cab company\",\n",
    "           grid=True , \n",
    "           style = 'pink');"
   ]
  },
  {
   "cell_type": "code",
   "execution_count": null,
   "id": "bdf8443a",
   "metadata": {},
   "outputs": [],
   "source": [
    "# plot transactions over time for yellow cab company\n",
    "yellow_cab_travel.plot(x='Date_of_Travel', \n",
    "           y= 'Transaction_ID', \n",
    "           kind='line',\n",
    "           figsize = (16,6), \n",
    "           title=\"Transactions Over Time for the Yellow Cab company\",\n",
    "           grid=True , \n",
    "           style = 'y');"
   ]
  },
  {
   "cell_type": "code",
   "execution_count": null,
   "id": "132387d4",
   "metadata": {},
   "outputs": [],
   "source": [
    "# group transactions by dates for both companies.\n",
    "pink_cab_profit = pink_cab.groupby(['Date_of_Travel'])['Profit'].sum()\n",
    "pink_cab_profit = pd.DataFrame(pink_cab_profit)\n",
    "pink_cab_profit = pink_cab_profit.reset_index()\n",
    "\n",
    "yellow_cab_profit = yellow_cab.groupby(['Date_of_Travel'])['Profit'].sum()\n",
    "yellow_cab_profit = pd.DataFrame(yellow_cab_profit)\n",
    "yellow_cab_profit = yellow_cab_profit.reset_index()"
   ]
  },
  {
   "cell_type": "code",
   "execution_count": null,
   "id": "97f2ec58",
   "metadata": {},
   "outputs": [],
   "source": [
    "# plot profit over time for pink cab company\n",
    "pink_cab_profit.plot(x='Date_of_Travel', \n",
    "           y= 'Profit', \n",
    "           kind='line',\n",
    "           figsize = (16,6), \n",
    "           title=\"Profit Over Time for the Pink Cab company\",\n",
    "           grid=True , \n",
    "           style = 'pink');"
   ]
  },
  {
   "cell_type": "code",
   "execution_count": null,
   "id": "e1ba7251",
   "metadata": {},
   "outputs": [],
   "source": [
    "# plot profit over time for yellow cab company\n",
    "yellow_cab_profit.plot(x='Date_of_Travel', \n",
    "           y= 'Profit', \n",
    "           kind='line',\n",
    "           figsize = (16,6), \n",
    "           title=\"Profit Over Time for the Yellow Cab company\",\n",
    "           grid=True , \n",
    "           style = 'y');"
   ]
  },
  {
   "cell_type": "markdown",
   "id": "02a32ba3",
   "metadata": {},
   "source": [
    "- Clear upward trend in profit as the year progresses, for both companies."
   ]
  },
  {
   "cell_type": "markdown",
   "id": "33277280",
   "metadata": {},
   "source": [
    "### 5. Hypothesis Testing\n",
    "<a class=\"anchor\" id=\"1.1\"></a>\n",
    "<a href=#cont>Back to Table of Contents</a>"
   ]
  },
  {
   "cell_type": "code",
   "execution_count": null,
   "id": "3e0ad5b3",
   "metadata": {},
   "outputs": [],
   "source": [
    "# 1)\n",
    "# H0 Income on average are higher for pink cab company customers, compared to yellow cab customers.\n",
    "\n",
    "y_cab_profit = combined_df[(combined_df.Company=='Yellow Cab')].groupby('Transaction_ID').income_usd_pm.mean()\n",
    "p_cab_profit = combined_df[(combined_df.Company=='Pink Cab')].groupby('Transaction_ID').income_usd_pm.mean()\n",
    "\n",
    "\n",
    "_, p_value = stats.ttest_ind(y_cab_profit.values,\n",
    "                             p_cab_profit.values,\n",
    "                             equal_var=True)\n",
    "\n",
    "print('P value is ', p_value)\n",
    "\n",
    "if(p_value<0.05):\n",
    "    print('Reject the null hypothesis')\n",
    "else:\n",
    "    print('Fail to reject null hypothesis')"
   ]
  },
  {
   "cell_type": "code",
   "execution_count": null,
   "id": "3b2d6687",
   "metadata": {},
   "outputs": [],
   "source": [
    "# 2)\n",
    "#H0 Yellow cab on average charge more per transaction compared to Pink cab.\n",
    "\n",
    "pink_profit = pink_cab.groupby('Transaction_ID').Price_Charged.mean()\n",
    "yellow_profit = yellow_cab.groupby('Transaction_ID').Price_Charged.mean()\n",
    "\n",
    "_, p_value = stats.ttest_ind(pink_profit.values,\n",
    "                             yellow_profit.values,\n",
    "                             equal_var=True)\n",
    "\n",
    "print('P value is ', p_value)\n",
    "\n",
    "if(p_value<0.05):\n",
    "    print('Reject the null hypothesis')\n",
    "else:\n",
    "    print('Fail to reject null hypothesis')"
   ]
  },
  {
   "cell_type": "code",
   "execution_count": null,
   "id": "79d10244",
   "metadata": {},
   "outputs": [],
   "source": [
    "# 3)\n",
    "# H0 = There is not a difference in Price_Charged between genders for the Yellow Cab company.\n",
    "\n",
    "y_male_g = yellow_cab[(yellow_cab.Gender=='Male')].groupby('Transaction_ID').Price_Charged.mean()\n",
    "y_female_g = yellow_cab[(yellow_cab.Gender=='Female')].groupby('Transaction_ID').Price_Charged.mean()\n",
    "\n",
    "_, p_value = stats.ttest_ind(y_male_g.values,\n",
    "                             y_female_g.values,\n",
    "                             equal_var=True)\n",
    "\n",
    "print('P value is ', p_value)\n",
    "\n",
    "if(p_value<0.05):\n",
    "    print('Reject the null hypothesis')\n",
    "else:\n",
    "    print('Fail to reject null hypothesis')"
   ]
  },
  {
   "cell_type": "code",
   "execution_count": null,
   "id": "3052244b",
   "metadata": {},
   "outputs": [],
   "source": [
    "# 4)\n",
    "# H0 = There is not a difference in Price_Charged between genders for the Pink Cab company.\n",
    "\n",
    "p_male_g = pink_cab[(pink_cab.Gender=='Male')].groupby('Transaction_ID').Price_Charged.mean()\n",
    "p_female_g = pink_cab[(pink_cab.Gender=='Female')].groupby('Transaction_ID').Price_Charged.mean()\n",
    "\n",
    "_, p_value = stats.ttest_ind(p_male_g.values,\n",
    "                             p_female_g.values,\n",
    "                             equal_var=True)\n",
    "\n",
    "print('P value is ', p_value)\n",
    "\n",
    "if(p_value<0.05):\n",
    "    print('Reject the null hypothesis')\n",
    "else:\n",
    "    print('Fail to reject null hypothesis')"
   ]
  },
  {
   "cell_type": "code",
   "execution_count": null,
   "id": "5f681b4e",
   "metadata": {},
   "outputs": [],
   "source": [
    "# 5)\n",
    "# H0 = Yellow Cab on average makes more profit per transaction compared to Pink cab.\n",
    "\n",
    "pr_y = yellow_cab.groupby('Transaction_ID').Profit.mean()\n",
    "pr_p = pink_cab.groupby('Transaction_ID').Profit.mean()\n",
    "\n",
    "_, p_value = stats.ttest_ind(pr_y.values,\n",
    "                             pr_p.values,\n",
    "                             equal_var=True)\n",
    "\n",
    "print('P value is ', p_value)\n",
    "\n",
    "if(p_value<0.05):\n",
    "    print('Reject the null hypothesis')\n",
    "else:\n",
    "    print('Fail to reject null hypothesis')"
   ]
  },
  {
   "cell_type": "markdown",
   "id": "912273f0",
   "metadata": {},
   "source": [
    "### 6. Recommendation\n",
    "<a class=\"anchor\" id=\"1.1\"></a>\n",
    "<a href=#cont>Back to Table of Contents</a>"
   ]
  },
  {
   "cell_type": "markdown",
   "id": "47ed30c1",
   "metadata": {},
   "source": [
    "Considering the companies profit, customer retention, city dominance, potential growth and total customer userbase, I can recommend investing in the Yellow Cab Company."
   ]
  },
  {
   "cell_type": "code",
   "execution_count": null,
   "id": "4a462829",
   "metadata": {},
   "outputs": [],
   "source": []
  },
  {
   "cell_type": "code",
   "execution_count": null,
   "id": "8dc93c80",
   "metadata": {},
   "outputs": [],
   "source": []
  }
 ],
 "metadata": {
  "kernelspec": {
   "display_name": "Python 3",
   "language": "python",
   "name": "python3"
  },
  "language_info": {
   "codemirror_mode": {
    "name": "ipython",
    "version": 3
   },
   "file_extension": ".py",
   "mimetype": "text/x-python",
   "name": "python",
   "nbconvert_exporter": "python",
   "pygments_lexer": "ipython3",
   "version": "3.8.8"
  }
 },
 "nbformat": 4,
 "nbformat_minor": 5
}
