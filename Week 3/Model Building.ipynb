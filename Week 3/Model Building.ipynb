{
 "cells": [
  {
   "cell_type": "markdown",
   "id": "8fa567dd",
   "metadata": {},
   "source": [
    "## G2M insight for Cab Investment firm\n",
    "Data Glacier - Henri Edwards\n",
    "\n",
    "The Client XYZ is a private firm in US. Due to remarkable growth in the Cab Industry in last few years and multiple key players in the market, it is planning for an investment in Cab industry and as per their Go-to-Market(G2M) strategy they want to understand the market before taking final decision.\n",
    "\n",
    "Datasets contain information on 2 cab companies. Each file (data set) provided represents different aspects of the customer profile. XYZ is interested in using your actionable insights to help them identify the right company to make their investment."
   ]
  },
  {
   "cell_type": "markdown",
   "id": "001962ba",
   "metadata": {},
   "source": [
    "<a id=\"cont\"></a>\n",
    "\n",
    "### Table of Contents\n",
    "\n",
    "<a href=#1>1. Importing Packages</a>\n",
    "\n",
    "<a href=#2>2. Loading the Data</a>\n",
    "\n",
    "<a href=#3>3. Data Cleaning & Preprocessing</a>\n",
    "\n",
    "<a href=#4>4. Model Building</a>\n",
    "\n",
    "<a href=#5>5. Conclusion</a>"
   ]
  },
  {
   "cell_type": "markdown",
   "id": "a1c2de6f",
   "metadata": {},
   "source": [
    "### 1. Importing Packages\n",
    "<a class=\"anchor\" id=\"1\"></a>\n",
    "<a href=#cont>Back to Table of Contents</a>"
   ]
  },
  {
   "cell_type": "code",
   "execution_count": 1,
   "id": "502b09c4",
   "metadata": {},
   "outputs": [],
   "source": [
    "import warnings\n",
    "warnings.filterwarnings(\"ignore\", category=RuntimeWarning) \n",
    "\n",
    "import numpy as np \n",
    "from numpy import std\n",
    "from numpy import mean\n",
    "from scipy import stats\n",
    "import pandas as pd\n",
    "from datetime import datetime\n",
    "import matplotlib.pyplot as plt\n",
    "from matplotlib import rc\n",
    "import seaborn as sns\n",
    "sns.set_theme(style=\"whitegrid\")\n",
    "\n",
    "import sklearn\n",
    "from math import sqrt\n",
    "from sklearn import metrics\n",
    "from sklearn.feature_selection import SelectKBest\n",
    "from sklearn.metrics import r2_score\n",
    "from sklearn.metrics import mean_squared_error, accuracy_score, classification_report\n",
    "\n",
    "from xgboost.sklearn import XGBRegressor\n",
    "import xgboost\n",
    "from sklearn.model_selection import RandomizedSearchCV, GridSearchCV\n",
    "from sklearn.preprocessing import StandardScaler\n",
    "from sklearn.preprocessing import MinMaxScaler\n",
    "from sklearn.datasets import make_classification\n",
    "from sklearn.model_selection import cross_val_score\n",
    "from sklearn.model_selection import RepeatedStratifiedKFold\n",
    "from sklearn.pipeline import Pipeline\n",
    "from sklearn.decomposition import PCA\n",
    "from sklearn.linear_model import LogisticRegression\n",
    "from sklearn.model_selection import train_test_split\n",
    "from sklearn.linear_model import LinearRegression\n",
    "from sklearn.linear_model import Ridge\n",
    "from sklearn.tree import DecisionTreeRegressor\n",
    "from sklearn.neighbors import KNeighborsRegressor"
   ]
  },
  {
   "cell_type": "markdown",
   "id": "612c9e48",
   "metadata": {},
   "source": [
    "### 2. Loading the Data\n",
    "<a class=\"anchor\" id=\"2\"></a>\n",
    "<a href=#cont>Back to Table of Contents</a>"
   ]
  },
  {
   "cell_type": "markdown",
   "id": "2c6b9674",
   "metadata": {},
   "source": [
    "- **Cab_Data.csv** – this file includes details of transaction for 2 cab companies\n",
    "- **Customer_ID.csv** – this is a mapping table that contains a unique identifier which links the customer’s demographic details\n",
    "- **Transaction_ID.csv** – this is a mapping table that contains transaction to customer mapping and payment mode\n",
    "- **City.csv – this file** contains list of US cities, their population and number of cab users"
   ]
  },
  {
   "cell_type": "code",
   "execution_count": 2,
   "id": "757daa0c",
   "metadata": {},
   "outputs": [],
   "source": [
    "cab_data = pd.read_csv('Cab_Data.csv')\n",
    "city_data = pd.read_csv('City.csv')\n",
    "customer_id = pd.read_csv('Customer_ID.csv')\n",
    "transaction_id = pd.read_csv('Transaction_ID.csv')"
   ]
  },
  {
   "cell_type": "code",
   "execution_count": 3,
   "id": "3559d668",
   "metadata": {},
   "outputs": [
    {
     "data": {
      "text/html": [
       "<div>\n",
       "<style scoped>\n",
       "    .dataframe tbody tr th:only-of-type {\n",
       "        vertical-align: middle;\n",
       "    }\n",
       "\n",
       "    .dataframe tbody tr th {\n",
       "        vertical-align: top;\n",
       "    }\n",
       "\n",
       "    .dataframe thead th {\n",
       "        text-align: right;\n",
       "    }\n",
       "</style>\n",
       "<table border=\"1\" class=\"dataframe\">\n",
       "  <thead>\n",
       "    <tr style=\"text-align: right;\">\n",
       "      <th></th>\n",
       "      <th>Transaction ID</th>\n",
       "      <th>Date of Travel</th>\n",
       "      <th>Company</th>\n",
       "      <th>City</th>\n",
       "      <th>KM Travelled</th>\n",
       "      <th>Price Charged</th>\n",
       "      <th>Cost of Trip</th>\n",
       "    </tr>\n",
       "  </thead>\n",
       "  <tbody>\n",
       "    <tr>\n",
       "      <th>0</th>\n",
       "      <td>10000011</td>\n",
       "      <td>08-01-2016</td>\n",
       "      <td>Pink Cab</td>\n",
       "      <td>ATLANTA GA</td>\n",
       "      <td>30.45</td>\n",
       "      <td>370.95</td>\n",
       "      <td>313.635</td>\n",
       "    </tr>\n",
       "    <tr>\n",
       "      <th>1</th>\n",
       "      <td>10000012</td>\n",
       "      <td>06-01-2016</td>\n",
       "      <td>Pink Cab</td>\n",
       "      <td>ATLANTA GA</td>\n",
       "      <td>28.62</td>\n",
       "      <td>358.52</td>\n",
       "      <td>334.854</td>\n",
       "    </tr>\n",
       "    <tr>\n",
       "      <th>2</th>\n",
       "      <td>10000013</td>\n",
       "      <td>02-01-2016</td>\n",
       "      <td>Pink Cab</td>\n",
       "      <td>ATLANTA GA</td>\n",
       "      <td>9.04</td>\n",
       "      <td>125.20</td>\n",
       "      <td>97.632</td>\n",
       "    </tr>\n",
       "  </tbody>\n",
       "</table>\n",
       "</div>"
      ],
      "text/plain": [
       "   Transaction ID Date of Travel   Company        City  KM Travelled  \\\n",
       "0        10000011     08-01-2016  Pink Cab  ATLANTA GA         30.45   \n",
       "1        10000012     06-01-2016  Pink Cab  ATLANTA GA         28.62   \n",
       "2        10000013     02-01-2016  Pink Cab  ATLANTA GA          9.04   \n",
       "\n",
       "   Price Charged  Cost of Trip  \n",
       "0         370.95       313.635  \n",
       "1         358.52       334.854  \n",
       "2         125.20        97.632  "
      ]
     },
     "execution_count": 3,
     "metadata": {},
     "output_type": "execute_result"
    }
   ],
   "source": [
    "cab_data.head(3)"
   ]
  },
  {
   "cell_type": "code",
   "execution_count": 4,
   "id": "f087cacc",
   "metadata": {},
   "outputs": [
    {
     "data": {
      "text/html": [
       "<div>\n",
       "<style scoped>\n",
       "    .dataframe tbody tr th:only-of-type {\n",
       "        vertical-align: middle;\n",
       "    }\n",
       "\n",
       "    .dataframe tbody tr th {\n",
       "        vertical-align: top;\n",
       "    }\n",
       "\n",
       "    .dataframe thead th {\n",
       "        text-align: right;\n",
       "    }\n",
       "</style>\n",
       "<table border=\"1\" class=\"dataframe\">\n",
       "  <thead>\n",
       "    <tr style=\"text-align: right;\">\n",
       "      <th></th>\n",
       "      <th>City</th>\n",
       "      <th>Population</th>\n",
       "      <th>Users</th>\n",
       "    </tr>\n",
       "  </thead>\n",
       "  <tbody>\n",
       "    <tr>\n",
       "      <th>0</th>\n",
       "      <td>NEW YORK NY</td>\n",
       "      <td>8,405,837</td>\n",
       "      <td>302,149</td>\n",
       "    </tr>\n",
       "    <tr>\n",
       "      <th>1</th>\n",
       "      <td>CHICAGO IL</td>\n",
       "      <td>1,955,130</td>\n",
       "      <td>164,468</td>\n",
       "    </tr>\n",
       "    <tr>\n",
       "      <th>2</th>\n",
       "      <td>LOS ANGELES CA</td>\n",
       "      <td>1,595,037</td>\n",
       "      <td>144,132</td>\n",
       "    </tr>\n",
       "  </tbody>\n",
       "</table>\n",
       "</div>"
      ],
      "text/plain": [
       "             City   Population      Users\n",
       "0     NEW YORK NY   8,405,837    302,149 \n",
       "1      CHICAGO IL   1,955,130    164,468 \n",
       "2  LOS ANGELES CA   1,595,037    144,132 "
      ]
     },
     "execution_count": 4,
     "metadata": {},
     "output_type": "execute_result"
    }
   ],
   "source": [
    "city_data.head(3)"
   ]
  },
  {
   "cell_type": "code",
   "execution_count": 5,
   "id": "9154b695",
   "metadata": {},
   "outputs": [
    {
     "data": {
      "text/html": [
       "<div>\n",
       "<style scoped>\n",
       "    .dataframe tbody tr th:only-of-type {\n",
       "        vertical-align: middle;\n",
       "    }\n",
       "\n",
       "    .dataframe tbody tr th {\n",
       "        vertical-align: top;\n",
       "    }\n",
       "\n",
       "    .dataframe thead th {\n",
       "        text-align: right;\n",
       "    }\n",
       "</style>\n",
       "<table border=\"1\" class=\"dataframe\">\n",
       "  <thead>\n",
       "    <tr style=\"text-align: right;\">\n",
       "      <th></th>\n",
       "      <th>Customer ID</th>\n",
       "      <th>Gender</th>\n",
       "      <th>Age</th>\n",
       "      <th>Income (USD/Month)</th>\n",
       "    </tr>\n",
       "  </thead>\n",
       "  <tbody>\n",
       "    <tr>\n",
       "      <th>0</th>\n",
       "      <td>29290</td>\n",
       "      <td>Male</td>\n",
       "      <td>28</td>\n",
       "      <td>10813</td>\n",
       "    </tr>\n",
       "    <tr>\n",
       "      <th>1</th>\n",
       "      <td>27703</td>\n",
       "      <td>Male</td>\n",
       "      <td>27</td>\n",
       "      <td>9237</td>\n",
       "    </tr>\n",
       "    <tr>\n",
       "      <th>2</th>\n",
       "      <td>28712</td>\n",
       "      <td>Male</td>\n",
       "      <td>53</td>\n",
       "      <td>11242</td>\n",
       "    </tr>\n",
       "  </tbody>\n",
       "</table>\n",
       "</div>"
      ],
      "text/plain": [
       "   Customer ID Gender  Age  Income (USD/Month)\n",
       "0        29290   Male   28               10813\n",
       "1        27703   Male   27                9237\n",
       "2        28712   Male   53               11242"
      ]
     },
     "execution_count": 5,
     "metadata": {},
     "output_type": "execute_result"
    }
   ],
   "source": [
    "customer_id.head(3)"
   ]
  },
  {
   "cell_type": "code",
   "execution_count": 6,
   "id": "17a55add",
   "metadata": {},
   "outputs": [
    {
     "data": {
      "text/html": [
       "<div>\n",
       "<style scoped>\n",
       "    .dataframe tbody tr th:only-of-type {\n",
       "        vertical-align: middle;\n",
       "    }\n",
       "\n",
       "    .dataframe tbody tr th {\n",
       "        vertical-align: top;\n",
       "    }\n",
       "\n",
       "    .dataframe thead th {\n",
       "        text-align: right;\n",
       "    }\n",
       "</style>\n",
       "<table border=\"1\" class=\"dataframe\">\n",
       "  <thead>\n",
       "    <tr style=\"text-align: right;\">\n",
       "      <th></th>\n",
       "      <th>Transaction ID</th>\n",
       "      <th>Customer ID</th>\n",
       "      <th>Payment_Mode</th>\n",
       "    </tr>\n",
       "  </thead>\n",
       "  <tbody>\n",
       "    <tr>\n",
       "      <th>0</th>\n",
       "      <td>10000011</td>\n",
       "      <td>29290</td>\n",
       "      <td>Card</td>\n",
       "    </tr>\n",
       "    <tr>\n",
       "      <th>1</th>\n",
       "      <td>10000012</td>\n",
       "      <td>27703</td>\n",
       "      <td>Card</td>\n",
       "    </tr>\n",
       "    <tr>\n",
       "      <th>2</th>\n",
       "      <td>10000013</td>\n",
       "      <td>28712</td>\n",
       "      <td>Cash</td>\n",
       "    </tr>\n",
       "  </tbody>\n",
       "</table>\n",
       "</div>"
      ],
      "text/plain": [
       "   Transaction ID  Customer ID Payment_Mode\n",
       "0        10000011        29290         Card\n",
       "1        10000012        27703         Card\n",
       "2        10000013        28712         Cash"
      ]
     },
     "execution_count": 6,
     "metadata": {},
     "output_type": "execute_result"
    }
   ],
   "source": [
    "transaction_id.head(3)"
   ]
  },
  {
   "cell_type": "markdown",
   "id": "dff6c1ba",
   "metadata": {},
   "source": [
    "### 3. Data Cleaning & Preprocessing\n",
    "<a class=\"anchor\" id=\"3\"></a>\n",
    "<a href=#cont>Back to Table of Contents</a>"
   ]
  },
  {
   "cell_type": "markdown",
   "id": "313b281d",
   "metadata": {},
   "source": [
    "- Merge/Create necessary dataframes\n",
    "\n",
    "- Inspect Null values\n",
    "\n",
    "- Inspect Data Types\n",
    "\n",
    "- Feature Engineering"
   ]
  },
  {
   "cell_type": "code",
   "execution_count": 7,
   "id": "4228f06e",
   "metadata": {},
   "outputs": [],
   "source": [
    "# combine dataframes\n",
    "combined_df = cab_data.merge(transaction_id,on='Transaction ID').merge(customer_id,on='Customer ID').merge(city_data,on='City')"
   ]
  },
  {
   "cell_type": "code",
   "execution_count": 8,
   "id": "13189d64",
   "metadata": {},
   "outputs": [
    {
     "data": {
      "text/html": [
       "<div>\n",
       "<style scoped>\n",
       "    .dataframe tbody tr th:only-of-type {\n",
       "        vertical-align: middle;\n",
       "    }\n",
       "\n",
       "    .dataframe tbody tr th {\n",
       "        vertical-align: top;\n",
       "    }\n",
       "\n",
       "    .dataframe thead th {\n",
       "        text-align: right;\n",
       "    }\n",
       "</style>\n",
       "<table border=\"1\" class=\"dataframe\">\n",
       "  <thead>\n",
       "    <tr style=\"text-align: right;\">\n",
       "      <th></th>\n",
       "      <th>Transaction ID</th>\n",
       "      <th>Date of Travel</th>\n",
       "      <th>Company</th>\n",
       "      <th>City</th>\n",
       "      <th>KM Travelled</th>\n",
       "      <th>Price Charged</th>\n",
       "      <th>Cost of Trip</th>\n",
       "      <th>Customer ID</th>\n",
       "      <th>Payment_Mode</th>\n",
       "      <th>Gender</th>\n",
       "      <th>Age</th>\n",
       "      <th>Income (USD/Month)</th>\n",
       "      <th>Population</th>\n",
       "      <th>Users</th>\n",
       "    </tr>\n",
       "  </thead>\n",
       "  <tbody>\n",
       "    <tr>\n",
       "      <th>0</th>\n",
       "      <td>10000011</td>\n",
       "      <td>08-01-2016</td>\n",
       "      <td>Pink Cab</td>\n",
       "      <td>ATLANTA GA</td>\n",
       "      <td>30.45</td>\n",
       "      <td>370.95</td>\n",
       "      <td>313.6350</td>\n",
       "      <td>29290</td>\n",
       "      <td>Card</td>\n",
       "      <td>Male</td>\n",
       "      <td>28</td>\n",
       "      <td>10813</td>\n",
       "      <td>814,885</td>\n",
       "      <td>24,701</td>\n",
       "    </tr>\n",
       "    <tr>\n",
       "      <th>1</th>\n",
       "      <td>10351127</td>\n",
       "      <td>21-07-2018</td>\n",
       "      <td>Yellow Cab</td>\n",
       "      <td>ATLANTA GA</td>\n",
       "      <td>26.19</td>\n",
       "      <td>598.70</td>\n",
       "      <td>317.4228</td>\n",
       "      <td>29290</td>\n",
       "      <td>Cash</td>\n",
       "      <td>Male</td>\n",
       "      <td>28</td>\n",
       "      <td>10813</td>\n",
       "      <td>814,885</td>\n",
       "      <td>24,701</td>\n",
       "    </tr>\n",
       "    <tr>\n",
       "      <th>2</th>\n",
       "      <td>10412921</td>\n",
       "      <td>23-11-2018</td>\n",
       "      <td>Yellow Cab</td>\n",
       "      <td>ATLANTA GA</td>\n",
       "      <td>42.55</td>\n",
       "      <td>792.05</td>\n",
       "      <td>597.4020</td>\n",
       "      <td>29290</td>\n",
       "      <td>Card</td>\n",
       "      <td>Male</td>\n",
       "      <td>28</td>\n",
       "      <td>10813</td>\n",
       "      <td>814,885</td>\n",
       "      <td>24,701</td>\n",
       "    </tr>\n",
       "    <tr>\n",
       "      <th>3</th>\n",
       "      <td>10000012</td>\n",
       "      <td>06-01-2016</td>\n",
       "      <td>Pink Cab</td>\n",
       "      <td>ATLANTA GA</td>\n",
       "      <td>28.62</td>\n",
       "      <td>358.52</td>\n",
       "      <td>334.8540</td>\n",
       "      <td>27703</td>\n",
       "      <td>Card</td>\n",
       "      <td>Male</td>\n",
       "      <td>27</td>\n",
       "      <td>9237</td>\n",
       "      <td>814,885</td>\n",
       "      <td>24,701</td>\n",
       "    </tr>\n",
       "    <tr>\n",
       "      <th>4</th>\n",
       "      <td>10320494</td>\n",
       "      <td>21-04-2018</td>\n",
       "      <td>Yellow Cab</td>\n",
       "      <td>ATLANTA GA</td>\n",
       "      <td>36.38</td>\n",
       "      <td>721.10</td>\n",
       "      <td>467.1192</td>\n",
       "      <td>27703</td>\n",
       "      <td>Card</td>\n",
       "      <td>Male</td>\n",
       "      <td>27</td>\n",
       "      <td>9237</td>\n",
       "      <td>814,885</td>\n",
       "      <td>24,701</td>\n",
       "    </tr>\n",
       "  </tbody>\n",
       "</table>\n",
       "</div>"
      ],
      "text/plain": [
       "   Transaction ID Date of Travel     Company        City  KM Travelled  \\\n",
       "0        10000011     08-01-2016    Pink Cab  ATLANTA GA         30.45   \n",
       "1        10351127     21-07-2018  Yellow Cab  ATLANTA GA         26.19   \n",
       "2        10412921     23-11-2018  Yellow Cab  ATLANTA GA         42.55   \n",
       "3        10000012     06-01-2016    Pink Cab  ATLANTA GA         28.62   \n",
       "4        10320494     21-04-2018  Yellow Cab  ATLANTA GA         36.38   \n",
       "\n",
       "   Price Charged  Cost of Trip  Customer ID Payment_Mode Gender  Age  \\\n",
       "0         370.95      313.6350        29290         Card   Male   28   \n",
       "1         598.70      317.4228        29290         Cash   Male   28   \n",
       "2         792.05      597.4020        29290         Card   Male   28   \n",
       "3         358.52      334.8540        27703         Card   Male   27   \n",
       "4         721.10      467.1192        27703         Card   Male   27   \n",
       "\n",
       "   Income (USD/Month) Population     Users  \n",
       "0               10813   814,885    24,701   \n",
       "1               10813   814,885    24,701   \n",
       "2               10813   814,885    24,701   \n",
       "3                9237   814,885    24,701   \n",
       "4                9237   814,885    24,701   "
      ]
     },
     "execution_count": 8,
     "metadata": {},
     "output_type": "execute_result"
    }
   ],
   "source": [
    "combined_df.head(5)"
   ]
  },
  {
   "cell_type": "code",
   "execution_count": 9,
   "id": "e47560c5",
   "metadata": {},
   "outputs": [
    {
     "data": {
      "text/plain": [
       "Transaction ID        0\n",
       "Date of Travel        0\n",
       "Company               0\n",
       "City                  0\n",
       "KM Travelled          0\n",
       "Price Charged         0\n",
       "Cost of Trip          0\n",
       "Customer ID           0\n",
       "Payment_Mode          0\n",
       "Gender                0\n",
       "Age                   0\n",
       "Income (USD/Month)    0\n",
       "Population            0\n",
       "Users                 0\n",
       "dtype: int64"
      ]
     },
     "execution_count": 9,
     "metadata": {},
     "output_type": "execute_result"
    }
   ],
   "source": [
    "# view total null values per feature\n",
    "combined_df.isnull().sum()"
   ]
  },
  {
   "cell_type": "code",
   "execution_count": 10,
   "id": "ad2549f4",
   "metadata": {},
   "outputs": [
    {
     "data": {
      "text/plain": [
       "Transaction ID          int64\n",
       "Date of Travel         object\n",
       "Company                object\n",
       "City                   object\n",
       "KM Travelled          float64\n",
       "Price Charged         float64\n",
       "Cost of Trip          float64\n",
       "Customer ID             int64\n",
       "Payment_Mode           object\n",
       "Gender                 object\n",
       "Age                     int64\n",
       "Income (USD/Month)      int64\n",
       "Population             object\n",
       "Users                  object\n",
       "dtype: object"
      ]
     },
     "execution_count": 10,
     "metadata": {},
     "output_type": "execute_result"
    }
   ],
   "source": [
    "combined_df.dtypes"
   ]
  },
  {
   "cell_type": "code",
   "execution_count": 11,
   "id": "76257076",
   "metadata": {},
   "outputs": [],
   "source": [
    "# Date of Travel is currently viewed as an object by Pandas, we need to convert it to a datetime object.\n",
    "combined_df['Date of Travel'] = pd.to_datetime(combined_df['Date of Travel'], format='%d-%m-%Y')"
   ]
  },
  {
   "cell_type": "code",
   "execution_count": 12,
   "id": "3bdb8f0e",
   "metadata": {},
   "outputs": [],
   "source": [
    "# Convert relevant features from object to numerical data types\n",
    "combined_df['Population'] = combined_df['Population'].replace(',','', regex=True)\n",
    "combined_df['Population'] = combined_df['Population'].astype('int64')\n",
    "combined_df['Users'] = combined_df['Users'].replace(',','', regex=True)\n",
    "combined_df['Users'] = combined_df['Users'].astype('int64')"
   ]
  },
  {
   "cell_type": "code",
   "execution_count": 13,
   "id": "16f9971a",
   "metadata": {},
   "outputs": [],
   "source": [
    "# Replace spaces with '_' in features\n",
    "for col in combined_df.columns:\n",
    "    if ' ' in col:\n",
    "        combined_df = combined_df.rename(columns={col:col.replace(' ','_')})"
   ]
  },
  {
   "cell_type": "code",
   "execution_count": 14,
   "id": "e053085d",
   "metadata": {},
   "outputs": [],
   "source": [
    "# Change Income_(USD/Month) to more useful name\n",
    "combined_df.rename(columns = {'Income_(USD/Month)':'income_usd_pm'}, inplace = True)"
   ]
  },
  {
   "cell_type": "code",
   "execution_count": 17,
   "id": "e85ec3a0",
   "metadata": {},
   "outputs": [],
   "source": [
    "# Extract/Create Month & year feature\n",
    "month=[]\n",
    "year=[]\n",
    "day=[]\n",
    "for i in range(len(combined_df['Date_of_Travel'])):\n",
    "    day.append(combined_df['Date_of_Travel'][i].day)\n",
    "    month.append(combined_df['Date_of_Travel'][i].month)\n",
    "    year.append(combined_df['Date_of_Travel'][i].year)\n",
    "combined_df['Month'] = month\n",
    "combined_df['day'] = day\n",
    "combined_df['Year'] = year"
   ]
  },
  {
   "cell_type": "code",
   "execution_count": 18,
   "id": "5632d269",
   "metadata": {},
   "outputs": [],
   "source": [
    "combined_df['payment_mode'] = combined_df.Payment_Mode.map(dict(Card=1, Cash=0))\n",
    "combined_df.drop(['Date_of_Travel', 'City', 'Gender', 'Payment_Mode'], axis=1, inplace=True)"
   ]
  },
  {
   "cell_type": "code",
   "execution_count": 19,
   "id": "ed30debb",
   "metadata": {},
   "outputs": [],
   "source": [
    "# Create dataframe for only yellow company.\n",
    "yellow_cab = combined_df[combined_df['Company'] == 'Yellow Cab']"
   ]
  },
  {
   "cell_type": "code",
   "execution_count": 21,
   "id": "e25e2c12",
   "metadata": {},
   "outputs": [
    {
     "data": {
      "text/html": [
       "<div>\n",
       "<style scoped>\n",
       "    .dataframe tbody tr th:only-of-type {\n",
       "        vertical-align: middle;\n",
       "    }\n",
       "\n",
       "    .dataframe tbody tr th {\n",
       "        vertical-align: top;\n",
       "    }\n",
       "\n",
       "    .dataframe thead th {\n",
       "        text-align: right;\n",
       "    }\n",
       "</style>\n",
       "<table border=\"1\" class=\"dataframe\">\n",
       "  <thead>\n",
       "    <tr style=\"text-align: right;\">\n",
       "      <th></th>\n",
       "      <th>Transaction_ID</th>\n",
       "      <th>Company</th>\n",
       "      <th>KM_Travelled</th>\n",
       "      <th>Price_Charged</th>\n",
       "      <th>Cost_of_Trip</th>\n",
       "      <th>Customer_ID</th>\n",
       "      <th>Age</th>\n",
       "      <th>income_usd_pm</th>\n",
       "      <th>Population</th>\n",
       "      <th>Users</th>\n",
       "      <th>Month</th>\n",
       "      <th>day</th>\n",
       "      <th>Year</th>\n",
       "      <th>payment_mode</th>\n",
       "    </tr>\n",
       "  </thead>\n",
       "  <tbody>\n",
       "    <tr>\n",
       "      <th>1</th>\n",
       "      <td>10351127</td>\n",
       "      <td>Yellow Cab</td>\n",
       "      <td>26.19</td>\n",
       "      <td>598.70</td>\n",
       "      <td>317.4228</td>\n",
       "      <td>29290</td>\n",
       "      <td>28</td>\n",
       "      <td>10813</td>\n",
       "      <td>814885</td>\n",
       "      <td>24701</td>\n",
       "      <td>7</td>\n",
       "      <td>21</td>\n",
       "      <td>2018</td>\n",
       "      <td>0</td>\n",
       "    </tr>\n",
       "    <tr>\n",
       "      <th>2</th>\n",
       "      <td>10412921</td>\n",
       "      <td>Yellow Cab</td>\n",
       "      <td>42.55</td>\n",
       "      <td>792.05</td>\n",
       "      <td>597.4020</td>\n",
       "      <td>29290</td>\n",
       "      <td>28</td>\n",
       "      <td>10813</td>\n",
       "      <td>814885</td>\n",
       "      <td>24701</td>\n",
       "      <td>11</td>\n",
       "      <td>23</td>\n",
       "      <td>2018</td>\n",
       "      <td>1</td>\n",
       "    </tr>\n",
       "    <tr>\n",
       "      <th>4</th>\n",
       "      <td>10320494</td>\n",
       "      <td>Yellow Cab</td>\n",
       "      <td>36.38</td>\n",
       "      <td>721.10</td>\n",
       "      <td>467.1192</td>\n",
       "      <td>27703</td>\n",
       "      <td>27</td>\n",
       "      <td>9237</td>\n",
       "      <td>814885</td>\n",
       "      <td>24701</td>\n",
       "      <td>4</td>\n",
       "      <td>21</td>\n",
       "      <td>2018</td>\n",
       "      <td>1</td>\n",
       "    </tr>\n",
       "  </tbody>\n",
       "</table>\n",
       "</div>"
      ],
      "text/plain": [
       "   Transaction_ID     Company  KM_Travelled  Price_Charged  Cost_of_Trip  \\\n",
       "1        10351127  Yellow Cab         26.19         598.70      317.4228   \n",
       "2        10412921  Yellow Cab         42.55         792.05      597.4020   \n",
       "4        10320494  Yellow Cab         36.38         721.10      467.1192   \n",
       "\n",
       "   Customer_ID  Age  income_usd_pm  Population  Users  Month  day  Year  \\\n",
       "1        29290   28          10813      814885  24701      7   21  2018   \n",
       "2        29290   28          10813      814885  24701     11   23  2018   \n",
       "4        27703   27           9237      814885  24701      4   21  2018   \n",
       "\n",
       "   payment_mode  \n",
       "1             0  \n",
       "2             1  \n",
       "4             1  "
      ]
     },
     "execution_count": 21,
     "metadata": {},
     "output_type": "execute_result"
    }
   ],
   "source": [
    "yellow_cab.head(3)"
   ]
  },
  {
   "cell_type": "markdown",
   "id": "a99c3dd2",
   "metadata": {},
   "source": [
    "#### Data Cleaning Conclusions\n",
    "- No null values present in the data\n",
    "- Combined dataframes\n",
    "- Coverted necessary datatypes\n",
    "- Features Engineered"
   ]
  },
  {
   "cell_type": "markdown",
   "id": "e2a6bb9a",
   "metadata": {},
   "source": [
    "### 4. Model Building\n",
    "Building and Evaluating Models able to predict Price_Charged for the Yellow Cab company.\n",
    "\n",
    "<a class=\"anchor\" id=\"4\"></a>\n",
    "<a href=#cont>Back to Table of Contents</a>"
   ]
  },
  {
   "cell_type": "code",
   "execution_count": 22,
   "id": "0b02b8c3",
   "metadata": {},
   "outputs": [
    {
     "data": {
      "image/png": "[encoded data removed]",
      "text/plain": [
       "<Figure size 576x1008 with 2 Axes>"
      ]
     },
     "metadata": {},
     "output_type": "display_data"
    }
   ],
   "source": [
    "# Correlation Heatmap - Features correlated to Price_Charged\n",
    "plt.figure(figsize=(8,14))\n",
    "hm = sns.heatmap(yellow_cab.corr()[['Price_Charged']].sort_values(by='Price_Charged', ascending=False), vmin=-1, vmax=1, annot=True, cmap='BrBG')\n",
    "hm.set_title('Features correlating with Price_Charged - Yellow Cab', fontdict={'fontsize':18}, pad=16);"
   ]
  },
  {
   "cell_type": "markdown",
   "id": "945262ac",
   "metadata": {},
   "source": [
    "- Strong Positive Correlation: Km_Travelled & Cost_of_Trip.\n",
    "- Medium Positive Correlation: Population & Users.\n",
    "- Medium Negative Correlation: Customer_ID."
   ]
  },
  {
   "cell_type": "code",
   "execution_count": 23,
   "id": "8bb99af3",
   "metadata": {},
   "outputs": [
    {
     "name": "stderr",
     "output_type": "stream",
     "text": [
      "<ipython-input-23-0c582a8fc2cf>:1: SettingWithCopyWarning: \n",
      "A value is trying to be set on a copy of a slice from a DataFrame\n",
      "\n",
      "See the caveats in the documentation: https://pandas.pydata.org/pandas-docs/stable/user_guide/indexing.html#returning-a-view-versus-a-copy\n",
      "  yellow_cab.drop(['Company'], axis=1, inplace=True)\n"
     ]
    }
   ],
   "source": [
    "yellow_cab.drop(['Company'], axis=1, inplace=True)"
   ]
  },
  {
   "cell_type": "code",
   "execution_count": 24,
   "id": "9c998a40",
   "metadata": {},
   "outputs": [],
   "source": [
    "# Create targets and features dataframes then seperate the test from the train data set.\n",
    "yellow_y = yellow_cab['Price_Charged']\n",
    "yellow_x = yellow_cab.drop(['Price_Charged'], axis=1)"
   ]
  },
  {
   "cell_type": "code",
   "execution_count": 25,
   "id": "5ebb6961",
   "metadata": {},
   "outputs": [],
   "source": [
    "# Split data into test and train sets\n",
    "X_train, X_test, y_train, y_test = train_test_split(yellow_x, yellow_y, test_size=0.1, random_state=42)"
   ]
  },
  {
   "cell_type": "markdown",
   "id": "26043ebe",
   "metadata": {},
   "source": [
    "### Feature Scaling\n",
    "Apply Normilization to X features."
   ]
  },
  {
   "cell_type": "code",
   "execution_count": 26,
   "id": "f3c13049",
   "metadata": {},
   "outputs": [
    {
     "data": {
      "text/html": [
       "<div>\n",
       "<style scoped>\n",
       "    .dataframe tbody tr th:only-of-type {\n",
       "        vertical-align: middle;\n",
       "    }\n",
       "\n",
       "    .dataframe tbody tr th {\n",
       "        vertical-align: top;\n",
       "    }\n",
       "\n",
       "    .dataframe thead th {\n",
       "        text-align: right;\n",
       "    }\n",
       "</style>\n",
       "<table border=\"1\" class=\"dataframe\">\n",
       "  <thead>\n",
       "    <tr style=\"text-align: right;\">\n",
       "      <th></th>\n",
       "      <th>Transaction_ID</th>\n",
       "      <th>KM_Travelled</th>\n",
       "      <th>Cost_of_Trip</th>\n",
       "      <th>Customer_ID</th>\n",
       "      <th>Age</th>\n",
       "      <th>income_usd_pm</th>\n",
       "      <th>Population</th>\n",
       "      <th>Users</th>\n",
       "      <th>Month</th>\n",
       "      <th>day</th>\n",
       "      <th>Year</th>\n",
       "      <th>payment_mode</th>\n",
       "    </tr>\n",
       "  </thead>\n",
       "  <tbody>\n",
       "    <tr>\n",
       "      <th>0</th>\n",
       "      <td>0.110076</td>\n",
       "      <td>0.746204</td>\n",
       "      <td>0.747935</td>\n",
       "      <td>0.802747</td>\n",
       "      <td>0.425532</td>\n",
       "      <td>0.098406</td>\n",
       "      <td>0.035935</td>\n",
       "      <td>0.000000</td>\n",
       "      <td>0.454545</td>\n",
       "      <td>0.833333</td>\n",
       "      <td>0.0</td>\n",
       "      <td>1.0</td>\n",
       "    </tr>\n",
       "    <tr>\n",
       "      <th>1</th>\n",
       "      <td>0.920377</td>\n",
       "      <td>1.000000</td>\n",
       "      <td>0.913824</td>\n",
       "      <td>0.088568</td>\n",
       "      <td>0.085106</td>\n",
       "      <td>0.902321</td>\n",
       "      <td>0.209169</td>\n",
       "      <td>0.538766</td>\n",
       "      <td>0.909091</td>\n",
       "      <td>0.300000</td>\n",
       "      <td>1.0</td>\n",
       "      <td>0.0</td>\n",
       "    </tr>\n",
       "    <tr>\n",
       "      <th>2</th>\n",
       "      <td>0.245378</td>\n",
       "      <td>0.547505</td>\n",
       "      <td>0.550592</td>\n",
       "      <td>0.001033</td>\n",
       "      <td>0.468085</td>\n",
       "      <td>0.207298</td>\n",
       "      <td>1.000000</td>\n",
       "      <td>1.000000</td>\n",
       "      <td>0.909091</td>\n",
       "      <td>0.533333</td>\n",
       "      <td>0.0</td>\n",
       "      <td>1.0</td>\n",
       "    </tr>\n",
       "    <tr>\n",
       "      <th>3</th>\n",
       "      <td>0.265989</td>\n",
       "      <td>0.370933</td>\n",
       "      <td>0.354758</td>\n",
       "      <td>0.493658</td>\n",
       "      <td>0.085106</td>\n",
       "      <td>0.002425</td>\n",
       "      <td>0.069379</td>\n",
       "      <td>0.070545</td>\n",
       "      <td>1.000000</td>\n",
       "      <td>0.333333</td>\n",
       "      <td>0.0</td>\n",
       "      <td>1.0</td>\n",
       "    </tr>\n",
       "    <tr>\n",
       "      <th>4</th>\n",
       "      <td>0.480413</td>\n",
       "      <td>0.547072</td>\n",
       "      <td>0.535555</td>\n",
       "      <td>0.231837</td>\n",
       "      <td>0.276596</td>\n",
       "      <td>0.057037</td>\n",
       "      <td>0.113848</td>\n",
       "      <td>0.079074</td>\n",
       "      <td>0.636364</td>\n",
       "      <td>0.566667</td>\n",
       "      <td>0.5</td>\n",
       "      <td>1.0</td>\n",
       "    </tr>\n",
       "  </tbody>\n",
       "</table>\n",
       "</div>"
      ],
      "text/plain": [
       "   Transaction_ID  KM_Travelled  Cost_of_Trip  Customer_ID       Age  \\\n",
       "0        0.110076      0.746204      0.747935     0.802747  0.425532   \n",
       "1        0.920377      1.000000      0.913824     0.088568  0.085106   \n",
       "2        0.245378      0.547505      0.550592     0.001033  0.468085   \n",
       "3        0.265989      0.370933      0.354758     0.493658  0.085106   \n",
       "4        0.480413      0.547072      0.535555     0.231837  0.276596   \n",
       "\n",
       "   income_usd_pm  Population     Users     Month       day  Year  payment_mode  \n",
       "0       0.098406    0.035935  0.000000  0.454545  0.833333   0.0           1.0  \n",
       "1       0.902321    0.209169  0.538766  0.909091  0.300000   1.0           0.0  \n",
       "2       0.207298    1.000000  1.000000  0.909091  0.533333   0.0           1.0  \n",
       "3       0.002425    0.069379  0.070545  1.000000  0.333333   0.0           1.0  \n",
       "4       0.057037    0.113848  0.079074  0.636364  0.566667   0.5           1.0  "
      ]
     },
     "execution_count": 26,
     "metadata": {},
     "output_type": "execute_result"
    }
   ],
   "source": [
    "# Scaling of data\n",
    "\n",
    "scale = MinMaxScaler() \n",
    "\n",
    "X_train = scale.fit_transform(X_train)\n",
    "X_test = scale.transform(X_test)\n",
    "X_std = pd.DataFrame(X_train, columns=yellow_x.columns)\n",
    "X_std.head()\n",
    "\n"
   ]
  },
  {
   "cell_type": "markdown",
   "id": "1f7f7201",
   "metadata": {},
   "source": [
    "### Model Training"
   ]
  },
  {
   "cell_type": "code",
   "execution_count": 27,
   "id": "8376d76c",
   "metadata": {},
   "outputs": [
    {
     "data": {
      "text/plain": [
       "XGBRegressor(base_score=0.5, booster='gbtree', callbacks=None,\n",
       "             colsample_bylevel=1, colsample_bynode=1, colsample_bytree=1,\n",
       "             early_stopping_rounds=None, enable_categorical=False,\n",
       "             eval_metric=None, gamma=0, gpu_id=-1, grow_policy='depthwise',\n",
       "             importance_type=None, interaction_constraints='',\n",
       "             learning_rate=0.300000012, max_bin=256, max_cat_to_onehot=4,\n",
       "             max_delta_step=0, max_depth=6, max_leaves=0, min_child_weight=1,\n",
       "             missing=nan, monotone_constraints='()', n_estimators=100, n_jobs=0,\n",
       "             num_parallel_tree=1, predictor='auto', random_state=0, reg_alpha=0,\n",
       "             reg_lambda=1, ...)"
      ]
     },
     "execution_count": 27,
     "metadata": {},
     "output_type": "execute_result"
    }
   ],
   "source": [
    "# train Ridge()\n",
    "ridge = Ridge()\n",
    "ridge.fit(X_train, y_train)\n",
    "\n",
    "# train DecisionTreeRegressor()\n",
    "dtr = DecisionTreeRegressor()\n",
    "dtr.fit(X_train,y_train)\n",
    "\n",
    "# train LinearRegression()\n",
    "lm = LinearRegression()\n",
    "lm.fit(X_train, y_train)\n",
    "\n",
    "# train KNeighborsRegressor()\n",
    "knn = KNeighborsRegressor()\n",
    "knn.fit(X_train,y_train)\n",
    "\n",
    "# train XGBRegressor()\n",
    "xgb = XGBRegressor()\n",
    "xgb.fit(X_train,y_train)"
   ]
  },
  {
   "cell_type": "markdown",
   "id": "b2c91e52",
   "metadata": {},
   "source": [
    "### Model performance"
   ]
  },
  {
   "cell_type": "code",
   "execution_count": 28,
   "id": "aa0f3664",
   "metadata": {},
   "outputs": [],
   "source": [
    "ridge_predict = ridge.predict(X_test)\n",
    "ridge_RMSE = sqrt(metrics.mean_squared_error(y_test, ridge_predict))\n",
    "\n",
    "dtr_predict = dtr.predict(X_test)\n",
    "dtr_RMSE = sqrt(metrics.mean_squared_error(y_test, dtr_predict))\n",
    "\n",
    "lm_predict = lm.predict(X_test)\n",
    "lm_RMSE = metrics.mean_squared_error(y_test, lm_predict, squared=False)\n",
    "\n",
    "knn_predict = knn.predict(X_test)\n",
    "knn_RMSE = metrics.mean_squared_error(y_test, knn_predict, squared=False)\n",
    "\n",
    "xgb_predict = xgb.predict(X_test)\n",
    "XGB_RMSE = metrics.mean_squared_error(y_test, xgb_predict, squared=False)"
   ]
  },
  {
   "cell_type": "code",
   "execution_count": 29,
   "id": "b236af4b",
   "metadata": {},
   "outputs": [
    {
     "data": {
      "text/html": [
       "<div>\n",
       "<style scoped>\n",
       "    .dataframe tbody tr th:only-of-type {\n",
       "        vertical-align: middle;\n",
       "    }\n",
       "\n",
       "    .dataframe tbody tr th {\n",
       "        vertical-align: top;\n",
       "    }\n",
       "\n",
       "    .dataframe thead th {\n",
       "        text-align: right;\n",
       "    }\n",
       "</style>\n",
       "<table border=\"1\" class=\"dataframe\">\n",
       "  <thead>\n",
       "    <tr style=\"text-align: right;\">\n",
       "      <th></th>\n",
       "      <th>Test_RMSE</th>\n",
       "    </tr>\n",
       "  </thead>\n",
       "  <tbody>\n",
       "    <tr>\n",
       "      <th>Decision Tree Regression</th>\n",
       "      <td>83.861442</td>\n",
       "    </tr>\n",
       "    <tr>\n",
       "      <th>KNeighbors Regression</th>\n",
       "      <td>84.405434</td>\n",
       "    </tr>\n",
       "    <tr>\n",
       "      <th>Linear Regression</th>\n",
       "      <td>102.724861</td>\n",
       "    </tr>\n",
       "    <tr>\n",
       "      <th>Ridge Regression</th>\n",
       "      <td>102.726206</td>\n",
       "    </tr>\n",
       "    <tr>\n",
       "      <th>XGB Regression</th>\n",
       "      <td>55.010251</td>\n",
       "    </tr>\n",
       "  </tbody>\n",
       "</table>\n",
       "</div>"
      ],
      "text/plain": [
       "                           Test_RMSE\n",
       "Decision Tree Regression   83.861442\n",
       "KNeighbors Regression      84.405434\n",
       "Linear Regression         102.724861\n",
       "Ridge Regression          102.726206\n",
       "XGB Regression             55.010251"
      ]
     },
     "execution_count": 29,
     "metadata": {},
     "output_type": "execute_result"
    }
   ],
   "source": [
    "# Comparing model performance. New dataframe containing test RMSE values \n",
    "RMSE_dict = {'Test_RMSE':\n",
    "             {\n",
    "                 \"Ridge Regression\": ridge_RMSE,\n",
    "                \"Decision Tree Regression\": dtr_RMSE,\n",
    "              \"Linear Regression\": lm_RMSE,\n",
    "              \"KNeighbors Regression\": knn_RMSE,\n",
    "                 \"XGB Regression\": XGB_RMSE \n",
    "              }\n",
    "             }\n",
    "RMSE_df_test = pd.DataFrame(data=RMSE_dict)\n",
    "RMSE_df_test"
   ]
  },
  {
   "cell_type": "markdown",
   "id": "152fcb78",
   "metadata": {},
   "source": [
    "- Best performing model: XGB Regression"
   ]
  },
  {
   "cell_type": "code",
   "execution_count": 30,
   "id": "ece12067",
   "metadata": {},
   "outputs": [],
   "source": [
    "# RMSE Values during training\n",
    "\n",
    "ridge_predict_train = ridge.predict(X_train)\n",
    "ridge_RMSE_train = metrics.mean_squared_error(y_train, ridge_predict_train, squared=False)\n",
    "\n",
    "dtr_predict_train = dtr.predict(X_train)\n",
    "dtr_RMSE_train = metrics.mean_squared_error(y_train, dtr_predict_train, squared=False)\n",
    "\n",
    "lm_predict_train = lm.predict(X_train)\n",
    "lm_RMSE_train = metrics.mean_squared_error(y_train, lm_predict_train, squared=False)\n",
    "\n",
    "knn_predict_train = knn.predict(X_train)\n",
    "knn_RMSE_train = metrics.mean_squared_error(y_train, knn_predict_train, squared=False)\n",
    "\n",
    "xgb_predict_train = xgb.predict(X_train)\n",
    "xgb_RMSE_train = metrics.mean_squared_error(y_train, xgb_predict_train, squared=False)"
   ]
  },
  {
   "cell_type": "markdown",
   "id": "92807976",
   "metadata": {},
   "source": [
    "Summary of results below in a RSME dataframe and plot."
   ]
  },
  {
   "cell_type": "code",
   "execution_count": 31,
   "id": "57db3c13",
   "metadata": {},
   "outputs": [
    {
     "data": {
      "text/html": [
       "<div>\n",
       "<style scoped>\n",
       "    .dataframe tbody tr th:only-of-type {\n",
       "        vertical-align: middle;\n",
       "    }\n",
       "\n",
       "    .dataframe tbody tr th {\n",
       "        vertical-align: top;\n",
       "    }\n",
       "\n",
       "    .dataframe thead th {\n",
       "        text-align: right;\n",
       "    }\n",
       "</style>\n",
       "<table border=\"1\" class=\"dataframe\">\n",
       "  <thead>\n",
       "    <tr style=\"text-align: right;\">\n",
       "      <th></th>\n",
       "      <th>Train_RMSE</th>\n",
       "      <th>Test_RMSE</th>\n",
       "    </tr>\n",
       "  </thead>\n",
       "  <tbody>\n",
       "    <tr>\n",
       "      <th>Decision Tree Regression</th>\n",
       "      <td>0.000000</td>\n",
       "      <td>83.861442</td>\n",
       "    </tr>\n",
       "    <tr>\n",
       "      <th>KNeighbors Regression</th>\n",
       "      <td>68.468610</td>\n",
       "      <td>84.405434</td>\n",
       "    </tr>\n",
       "    <tr>\n",
       "      <th>Linear Regression</th>\n",
       "      <td>102.489520</td>\n",
       "      <td>102.724861</td>\n",
       "    </tr>\n",
       "    <tr>\n",
       "      <th>Ridge Regression</th>\n",
       "      <td>102.489599</td>\n",
       "      <td>102.726206</td>\n",
       "    </tr>\n",
       "    <tr>\n",
       "      <th>XGB Regression</th>\n",
       "      <td>52.517284</td>\n",
       "      <td>55.010251</td>\n",
       "    </tr>\n",
       "  </tbody>\n",
       "</table>\n",
       "</div>"
      ],
      "text/plain": [
       "                          Train_RMSE   Test_RMSE\n",
       "Decision Tree Regression    0.000000   83.861442\n",
       "KNeighbors Regression      68.468610   84.405434\n",
       "Linear Regression         102.489520  102.724861\n",
       "Ridge Regression          102.489599  102.726206\n",
       "XGB Regression             52.517284   55.010251"
      ]
     },
     "execution_count": 31,
     "metadata": {},
     "output_type": "execute_result"
    }
   ],
   "source": [
    "# Creating a dataframe of all the models' train RMSE values & test values comparison\n",
    "RMSE_dict_train = {'Train_RMSE':\n",
    "             {\n",
    "                 \"Ridge Regression\": ridge_RMSE_train,\n",
    "                \"Decision Tree Regression\": dtr_RMSE_train,\n",
    "              \"Linear Regression\": lm_RMSE_train,\n",
    "              \"KNeighbors Regression\": knn_RMSE_train,\n",
    "                \"XGB Regression\": xgb_RMSE_train \n",
    "              }\n",
    "             }\n",
    "RMSE_df_train = pd.DataFrame(data=RMSE_dict_train)\n",
    "RMSE_df_train['Test_RMSE'] = RMSE_df_test['Test_RMSE']\n",
    "RMSE_df_train"
   ]
  },
  {
   "cell_type": "code",
   "execution_count": 32,
   "id": "b6967b48",
   "metadata": {},
   "outputs": [
    {
     "data": {
      "image/png": "[encoded data removed]",
      "text/plain": [
       "<Figure size 432x288 with 1 Axes>"
      ]
     },
     "metadata": {},
     "output_type": "display_data"
    }
   ],
   "source": [
    "# Plotting the test and train RMSE scores for the models\n",
    "plt.plot( np.arange(len(RMSE_df_test['Test_RMSE'])) , RMSE_df_test['Test_RMSE'], label='Test RMSE')\n",
    "plt.plot( np.arange(len(RMSE_df_train['Train_RMSE'])) , RMSE_df_train['Train_RMSE'], label='Train RMSE')\n",
    "plt.xlabel('Degree')\n",
    "plt.ylabel('RMSE')\n",
    "plt.legend()\n",
    "plt.show()"
   ]
  },
  {
   "cell_type": "markdown",
   "id": "c24de291",
   "metadata": {},
   "source": [
    "**X Axis Represents:**\n",
    "\n",
    "0 = Decision Tree Regression\n",
    "\n",
    "1 = KNeighbors Regression\n",
    "\n",
    "2 = Linear Regression\n",
    "\n",
    "3 = Ridge Regression\n",
    "\n",
    "4 = XGB Regression"
   ]
  },
  {
   "cell_type": "markdown",
   "id": "ad8d781d",
   "metadata": {},
   "source": [
    "- Test RMSE > Train RMSE = Overfit (Decision Tree, KNeighbors)\n",
    "- XGB has minimal overfitting."
   ]
  },
  {
   "cell_type": "markdown",
   "id": "a47db3b7",
   "metadata": {},
   "source": [
    "### Feature Selection"
   ]
  },
  {
   "cell_type": "code",
   "execution_count": 33,
   "id": "ee7cf346",
   "metadata": {},
   "outputs": [],
   "source": [
    "# Chose the top 8 features that could best predict Price_Charged\n",
    "selector = SelectKBest(k=8)\n",
    "fit = selector.fit(yellow_x,yellow_y)\n",
    "X_best = selector.fit_transform(yellow_x,yellow_y)\n",
    "\n",
    "# Created dataframes showing top columns and their scores\n",
    "dfscores = pd.DataFrame(fit.scores_)\n",
    "dfcolumns = pd.DataFrame(yellow_x.columns) \n",
    "featureScores = pd.concat([dfcolumns,dfscores],axis=1)\n",
    "\n",
    "# naming the dataframe columns\n",
    "featureScores.columns = ['Feature','Score']  \n",
    "\n",
    "# select best features\n",
    "Top_features= featureScores.nlargest(38,'Score')  \n",
    "\n",
    "X_train_best, X_test_best, y_train_best, y_test_best = train_test_split(X_best, yellow_y, test_size=0.2, random_state=50)\n",
    "\n",
    "X_train_best = scale.fit_transform(X_train_best)\n",
    "X_test_best = scale.transform(X_test_best)"
   ]
  },
  {
   "cell_type": "code",
   "execution_count": 34,
   "id": "3c1b7d5f",
   "metadata": {},
   "outputs": [
    {
     "data": {
      "text/html": [
       "<div>\n",
       "<style scoped>\n",
       "    .dataframe tbody tr th:only-of-type {\n",
       "        vertical-align: middle;\n",
       "    }\n",
       "\n",
       "    .dataframe tbody tr th {\n",
       "        vertical-align: top;\n",
       "    }\n",
       "\n",
       "    .dataframe thead th {\n",
       "        text-align: right;\n",
       "    }\n",
       "</style>\n",
       "<table border=\"1\" class=\"dataframe\">\n",
       "  <thead>\n",
       "    <tr style=\"text-align: right;\">\n",
       "      <th></th>\n",
       "      <th>Feature</th>\n",
       "      <th>Score</th>\n",
       "    </tr>\n",
       "  </thead>\n",
       "  <tbody>\n",
       "    <tr>\n",
       "      <th>1</th>\n",
       "      <td>KM_Travelled</td>\n",
       "      <td>15.225562</td>\n",
       "    </tr>\n",
       "    <tr>\n",
       "      <th>2</th>\n",
       "      <td>Cost_of_Trip</td>\n",
       "      <td>14.341145</td>\n",
       "    </tr>\n",
       "    <tr>\n",
       "      <th>6</th>\n",
       "      <td>Population</td>\n",
       "      <td>1.549145</td>\n",
       "    </tr>\n",
       "    <tr>\n",
       "      <th>7</th>\n",
       "      <td>Users</td>\n",
       "      <td>1.396691</td>\n",
       "    </tr>\n",
       "    <tr>\n",
       "      <th>8</th>\n",
       "      <td>Month</td>\n",
       "      <td>1.052173</td>\n",
       "    </tr>\n",
       "    <tr>\n",
       "      <th>3</th>\n",
       "      <td>Customer_ID</td>\n",
       "      <td>1.034850</td>\n",
       "    </tr>\n",
       "    <tr>\n",
       "      <th>0</th>\n",
       "      <td>Transaction_ID</td>\n",
       "      <td>1.024417</td>\n",
       "    </tr>\n",
       "    <tr>\n",
       "      <th>10</th>\n",
       "      <td>Year</td>\n",
       "      <td>1.017160</td>\n",
       "    </tr>\n",
       "    <tr>\n",
       "      <th>9</th>\n",
       "      <td>day</td>\n",
       "      <td>1.016985</td>\n",
       "    </tr>\n",
       "    <tr>\n",
       "      <th>4</th>\n",
       "      <td>Age</td>\n",
       "      <td>0.993849</td>\n",
       "    </tr>\n",
       "    <tr>\n",
       "      <th>11</th>\n",
       "      <td>payment_mode</td>\n",
       "      <td>0.992404</td>\n",
       "    </tr>\n",
       "    <tr>\n",
       "      <th>5</th>\n",
       "      <td>income_usd_pm</td>\n",
       "      <td>0.988581</td>\n",
       "    </tr>\n",
       "  </tbody>\n",
       "</table>\n",
       "</div>"
      ],
      "text/plain": [
       "           Feature      Score\n",
       "1     KM_Travelled  15.225562\n",
       "2     Cost_of_Trip  14.341145\n",
       "6       Population   1.549145\n",
       "7            Users   1.396691\n",
       "8            Month   1.052173\n",
       "3      Customer_ID   1.034850\n",
       "0   Transaction_ID   1.024417\n",
       "10            Year   1.017160\n",
       "9              day   1.016985\n",
       "4              Age   0.993849\n",
       "11    payment_mode   0.992404\n",
       "5    income_usd_pm   0.988581"
      ]
     },
     "execution_count": 34,
     "metadata": {},
     "output_type": "execute_result"
    }
   ],
   "source": [
    "Top_features"
   ]
  },
  {
   "cell_type": "code",
   "execution_count": 35,
   "id": "c3d217d8",
   "metadata": {},
   "outputs": [],
   "source": [
    "# Train and re-evaulate models - After feature selection\n",
    "\n",
    "# Ridge\n",
    "ridge.fit(X_train_best, y_train_best)\n",
    "ridge_predict_best = ridge.predict(X_test_best)\n",
    "ridge_RMSE_best = sqrt(metrics.mean_squared_error(y_test_best, ridge_predict_best))\n",
    "\n",
    "# Decision Tree\n",
    "dtr.fit(X_train_best, y_train_best)\n",
    "dtr_predict_best = dtr.predict(X_test_best)\n",
    "dtr_RMSE_best = sqrt(metrics.mean_squared_error(y_test_best, dtr_predict_best))\n",
    "\n",
    "# Linear Regression\n",
    "lm.fit(X_train_best,y_train_best)\n",
    "lm_predict_best = lm.predict(X_test_best)\n",
    "lm_RMSE_best = sqrt(metrics.mean_squared_error(y_test_best, lm_predict_best))\n",
    "\n",
    "# K Neighbours Regressor\n",
    "knn.fit(X_train_best,y_train_best)\n",
    "knn_predict_best = knn.predict(X_test_best)\n",
    "knn_RMSE_best = sqrt(metrics.mean_squared_error(y_test_best, knn_predict_best))\n",
    "\n",
    "# XGB Booster\n",
    "xgb.fit(X_train_best, y_train_best)\n",
    "xgb_predict_best = dtr.predict(X_test_best)\n",
    "xgb_RMSE_best = sqrt(metrics.mean_squared_error(y_test_best, dtr_predict_best))"
   ]
  },
  {
   "cell_type": "code",
   "execution_count": 36,
   "id": "223b15cf",
   "metadata": {},
   "outputs": [
    {
     "data": {
      "text/html": [
       "<div>\n",
       "<style scoped>\n",
       "    .dataframe tbody tr th:only-of-type {\n",
       "        vertical-align: middle;\n",
       "    }\n",
       "\n",
       "    .dataframe tbody tr th {\n",
       "        vertical-align: top;\n",
       "    }\n",
       "\n",
       "    .dataframe thead th {\n",
       "        text-align: right;\n",
       "    }\n",
       "</style>\n",
       "<table border=\"1\" class=\"dataframe\">\n",
       "  <thead>\n",
       "    <tr style=\"text-align: right;\">\n",
       "      <th></th>\n",
       "      <th>RMSE_8</th>\n",
       "      <th>RMSE_preselection</th>\n",
       "    </tr>\n",
       "  </thead>\n",
       "  <tbody>\n",
       "    <tr>\n",
       "      <th>Decision Tree Regression</th>\n",
       "      <td>83.911136</td>\n",
       "      <td>83.861442</td>\n",
       "    </tr>\n",
       "    <tr>\n",
       "      <th>KNeighbors Regression</th>\n",
       "      <td>75.409886</td>\n",
       "      <td>84.405434</td>\n",
       "    </tr>\n",
       "    <tr>\n",
       "      <th>Linear Regression</th>\n",
       "      <td>102.643175</td>\n",
       "      <td>102.724861</td>\n",
       "    </tr>\n",
       "    <tr>\n",
       "      <th>Ridge Regression</th>\n",
       "      <td>102.643005</td>\n",
       "      <td>102.726206</td>\n",
       "    </tr>\n",
       "    <tr>\n",
       "      <th>XGB Regression</th>\n",
       "      <td>83.911136</td>\n",
       "      <td>55.010251</td>\n",
       "    </tr>\n",
       "  </tbody>\n",
       "</table>\n",
       "</div>"
      ],
      "text/plain": [
       "                              RMSE_8  RMSE_preselection\n",
       "Decision Tree Regression   83.911136          83.861442\n",
       "KNeighbors Regression      75.409886          84.405434\n",
       "Linear Regression         102.643175         102.724861\n",
       "Ridge Regression          102.643005         102.726206\n",
       "XGB Regression             83.911136          55.010251"
      ]
     },
     "execution_count": 36,
     "metadata": {},
     "output_type": "execute_result"
    }
   ],
   "source": [
    "# Plot RMSE comarison of before and after feature selection\n",
    "RMSE_dict_best = {'RMSE_8':\n",
    "             {\n",
    "                 \"Ridge Regression\": ridge_RMSE_best,\n",
    "                 \"Decision Tree Regression\": dtr_RMSE_best,\n",
    "              \"Linear Regression\": lm_RMSE_best,\n",
    "              \"KNeighbors Regression\": knn_RMSE_best,\n",
    "              \"XGB Regression\": xgb_RMSE_best \n",
    "              }\n",
    "             }\n",
    "RMSE_df_best = pd.DataFrame(data=RMSE_dict_best)\n",
    "RMSE_df_best['RMSE_preselection'] = RMSE_df_test['Test_RMSE']\n",
    "RMSE_df_best"
   ]
  },
  {
   "cell_type": "markdown",
   "id": "52a0f81c",
   "metadata": {},
   "source": [
    "- Increase in some model's RMSE.\n",
    "- Final Model XGB Regression - RMSE Decrease."
   ]
  },
  {
   "cell_type": "markdown",
   "id": "3730d055",
   "metadata": {},
   "source": [
    "### 5. Conclusion\n",
    "\n",
    "<a class=\"anchor\" id=\"5\"></a>\n",
    "<a href=#cont>Back to Table of Contents</a>"
   ]
  },
  {
   "cell_type": "markdown",
   "id": "e08f0798",
   "metadata": {},
   "source": [
    "- Compared numers models.\n",
    "- Applies Feature Selection and Feature Scaling.\n",
    "- Successfully able to accurately predict Price_Charged, using a XGB Regression algorithm. (XGB before feature selection)"
   ]
  },
  {
   "cell_type": "code",
   "execution_count": null,
   "id": "544f6928",
   "metadata": {},
   "outputs": [],
   "source": []
  }
 ],
 "metadata": {
  "kernelspec": {
   "display_name": "Python 3",
   "language": "python",
   "name": "python3"
  },
  "language_info": {
   "codemirror_mode": {
    "name": "ipython",
    "version": 3
   },
   "file_extension": ".py",
   "mimetype": "text/x-python",
   "name": "python",
   "nbconvert_exporter": "python",
   "pygments_lexer": "ipython3",
   "version": "3.8.8"
  }
 },
 "nbformat": 4,
 "nbformat_minor": 5
}
