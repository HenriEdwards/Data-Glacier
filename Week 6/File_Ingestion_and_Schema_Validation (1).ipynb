{
  "nbformat": 4,
  "nbformat_minor": 0,
  "metadata": {
    "colab": {
      "name": "File-Ingestion-and-Schema-Validation.ipynb",
      "provenance": [],
      "collapsed_sections": []
    },
    "kernelspec": {
      "name": "python3",
      "display_name": "Python 3"
    },
    "language_info": {
      "name": "python"
    }
  },
  "cells": [
    {
      "cell_type": "markdown",
      "source": [
        "## **Data Ingestion and Schema Validation**\n",
        "\n",
        "Hneri Edwards - \n",
        "LISUM10: 30"
      ],
      "metadata": {
        "id": "GyNRHurNsIy_"
      }
    },
    {
      "cell_type": "markdown",
      "source": [
        "### Dataset Description\n",
        "\n",
        "- Data is sourced from Kaggle - **NYC Parking Violation Tickets**\n",
        "- Data was produced by NYC Department of Finance.\n",
        "- Columns include information about the vehicle ticketed, the ticket issued, location and time."
      ],
      "metadata": {
        "id": "KBe8mv6kxAsa"
      }
    },
    {
      "cell_type": "markdown",
      "source": [
        "### Table of Contents\n",
        "\n",
        "1. Reading the Data\n",
        "2. Utilities\n",
        "3. YAML file\n",
        "4. Validation\n",
        "5. Export as gzip"
      ],
      "metadata": {
        "id": "sywTHgJHymO3"
      }
    },
    {
      "cell_type": "code",
      "source": [
        "# necessary packages\n",
        "\n",
        "import gzip\n",
        "import os\n",
        "import time\n",
        "import pandas as pd\n",
        "import modin.pandas as mpd\n",
        "import dask.dataframe as dd\n",
        "import vaex\n",
        "import ray"
      ],
      "metadata": {
        "id": "REIsHK0xHUqU"
      },
      "execution_count": null,
      "outputs": []
    },
    {
      "cell_type": "code",
      "source": [
        "# import data using Pandas\n",
        "\n",
        "start_time = time.time()\n",
        "df = pd.read_csv('tickets/nyc_tickets.csv')\n",
        "print(\"--- %s seconds ---\" % (time.time() - start_time))"
      ],
      "metadata": {
        "colab": {
          "base_uri": "https://localhost:8080/"
        },
        "id": "XhWVxknhG4iL",
        "outputId": "70b27ef1-b3d7-42ab-b45a-a77a34195786"
      },
      "execution_count": null,
      "outputs": [
        {
          "output_type": "stream",
          "name": "stderr",
          "text": [
            "DtypeWarning: Columns (17,18,20,21,22,23,29,30,31,32,36,38,39) have mixed types.Specify dtype option on import or set low_memory=False.\n"
          ]
        },
        {
          "output_type": "stream",
          "name": "stdout",
          "text": [
            "--- 80.33357524871826 seconds ---\n"
          ]
        }
      ]
    },
    {
      "cell_type": "code",
      "source": [
        "# import data using Dask\n",
        "\n",
        "start_time = time.time()\n",
        "df = dd.read_csv('tickets/nyc_tickets.csv', dtype={'House Number': 'object',\n",
        "       'Issuer Command': 'object',\n",
        "       'Issuer Squad': 'object',\n",
        "       'Time First Observed': 'object',\n",
        "       'Unregistered Vehicle?': 'float64',\n",
        "       'Violation Description': 'object',\n",
        "       'Violation Legal Code': 'object',\n",
        "       'Violation Location': 'float64',\n",
        "       'Violation Post Code': 'object',\n",
        "       'Date First Observed': 'float64',\n",
        "       'Feet From Curb': 'float64',\n",
        "       'Law Section': 'float64',\n",
        "       'Vehicle Year': 'float64'})\n",
        "print(\"--- %s seconds ---\" % (time.time() - start_time))"
      ],
      "metadata": {
        "colab": {
          "base_uri": "https://localhost:8080/"
        },
        "id": "uXuFwd8zG5H5",
        "outputId": "b3ca5324-c593-4e66-b52e-dcb11a7184f4"
      },
      "execution_count": null,
      "outputs": [
        {
          "output_type": "stream",
          "name": "stdout",
          "text": [
            "--- 0.1541757583618164 seconds ---\n"
          ]
        }
      ]
    },
    {
      "cell_type": "code",
      "source": [
        "# import data using modin\n",
        "\n",
        "start_time = time.time()\n",
        "df = mpd.read_csv('tickets/nyc_tickets.csv')\n",
        "print(\"--- %s seconds ---\" % (time.time() - start_time))"
      ],
      "metadata": {
        "colab": {
          "base_uri": "https://localhost:8080/"
        },
        "id": "lfEIHrSKG5K_",
        "outputId": "f758e434-0833-4d51-8c60-60a24bfe1de0"
      },
      "execution_count": null,
      "outputs": [
        {
          "output_type": "stream",
          "name": "stderr",
          "text": [
            "UserWarning: Ray execution environment not yet initialized. Initializing...\n",
            "To remove this warning, run the following python code before doing dataframe operations:\n",
            "\n",
            "    import ray\n",
            "    ray.init()\n",
            "\n",
            "UserWarning: The size of /dev/shm is too small (6133121024 bytes). The required size at least half of RAM (6808872960 bytes). Please, delete files in /dev/shm or increase size of /dev/shm with --shm-size in Docker. Also, you can set the required memory size for each Ray worker in bytes to MODIN_MEMORY environment variable.\n",
            "2022-07-12 16:52:14,265\tWARNING worker.py:1404 -- A worker died or was killed while executing a task by an unexpected system error. To troubleshoot the problem, check the logs for the dead worker. RayTask ID: 89516340584ad08ddfbc84e4119fc6173b91f04801000000 Worker ID: d8aa0d5bbaf63800c30633522fd8ee36410d8a1f3fc7961401e5ac26 Node ID: 34cfb65aa445f4b1f556c70139e96e02677cbdcb6dfb9c425bc6c4bf Worker IP address: 172.28.0.2 Worker port: 44235 Worker PID: 2306\n",
            "\u001b[2m\u001b[36m(raylet)\u001b[0m Spilled 2515 MiB, 3 objects, write throughput 276 MiB/s. Set RAY_verbose_spill_logs=0 to disable this message.\n"
          ]
        },
        {
          "output_type": "stream",
          "name": "stdout",
          "text": [
            "--- 145.39502716064453 seconds ---\n"
          ]
        },
        {
          "output_type": "stream",
          "name": "stderr",
          "text": [
            "UserWarning: `read_*` implementation has mismatches with pandas:\n",
            "Data types of partitions are different! Please refer to the troubleshooting section of the Modin documentation to fix this issue.\n"
          ]
        }
      ]
    },
    {
      "cell_type": "markdown",
      "source": [
        "Dax has the fastest computational runtime which is under a second for data around 2gb"
      ],
      "metadata": {
        "id": "g-Fnb7gDV7g7"
      }
    },
    {
      "cell_type": "code",
      "source": [
        "# import necessary packages\n",
        "\n",
        "%%writefile utility.py\n",
        "import logging\n",
        "import os\n",
        "import time\n",
        "import modin.pandas as mpd\n",
        "import dask.dataframe as dd\n",
        "import subprocess\n",
        "import yaml\n",
        "import pandas as pd\n",
        "import datetime \n",
        "import gc\n",
        "import re\n",
        "\n",
        "\n",
        "################\n",
        "# File Reading #\n",
        "################\n",
        "\n",
        "def read_config_file(filepath):\n",
        "    with open(filepath, 'r') as stream:\n",
        "        try:\n",
        "            return yaml.safe_load(stream)\n",
        "        except yaml.YAMLError as exc:\n",
        "            logging.error(exc)\n",
        "\n",
        "\n",
        "def replacer(string, char):\n",
        "    pattern = char + '{2,}'\n",
        "    string = re.sub(pattern, char, string) \n",
        "    return string\n",
        "\n",
        "def check_header(header, df):\n",
        "    return df.reindex(header, axis=1, fill_value=0)\n",
        "\n",
        "def col_header_val(df,table_config):\n",
        "    '''\n",
        "    replace whitespaces in the column\n",
        "    and standardized column names\n",
        "    '''\n",
        "    df.columns = df.columns.str.lower()\n",
        "    df.columns = df.columns.str.replace('[^\\w]','_',regex=True)\n",
        "    df.columns = list(map(lambda x: x.strip('_'), list(df.columns)))\n",
        "    df.columns = list(map(lambda x: replacer(x,'_'), list(df.columns)))\n",
        "    expected_col = list(map(lambda x: x.lower(),  table_config['columns']))\n",
        "    expected_col.sort()\n",
        "    df.columns =list(map(lambda x: x.lower(), list(df.columns)))\n",
        "    df = df.reindex(sorted(df.columns), axis=1)\n",
        "    if len(df.columns) == len(expected_col) and list(expected_col)  == list(df.columns):\n",
        "        print(\"column name and column length validation passed\")\n",
        "        return 1\n",
        "    else:\n",
        "        print(\"column name and column length validation failed\")\n",
        "        mismatched_columns_file = list(set(df.columns).difference(expected_col))\n",
        "        print(\"Following File columns are not in the YAML file\",mismatched_columns_file)\n",
        "        missing_YAML_file = list(set(expected_col).difference(df.columns))\n",
        "        print(\"Following YAML columns are not in the file uploaded\",missing_YAML_file)\n",
        "        logging.info(f'df columns: {df.columns}')\n",
        "        logging.info(f'expected columns: {expected_col}')\n",
        "        return 0"
      ],
      "metadata": {
        "colab": {
          "base_uri": "https://localhost:8080/"
        },
        "id": "TBEZ_3OQlTxs",
        "outputId": "7585b2b5-32c2-471e-f6b2-3a32fcffe1b6"
      },
      "execution_count": null,
      "outputs": [
        {
          "output_type": "stream",
          "name": "stdout",
          "text": [
            "Overwriting utility.py\n"
          ]
        }
      ]
    },
    {
      "cell_type": "code",
      "source": [
        "%%writefile file.yaml\n",
        "file_type: csv\n",
        "dataset_name: nyc_tickets\n",
        "file_name: nyc_tickets\n",
        "table_name: tickets\n",
        "inbound_delimiter: \",\"\n",
        "outbound_delimiter: \"|\"\n",
        "skip_leading_rows: 1\n",
        "columns: \n",
        "    - Summons Number\n",
        "    - Plate ID\n",
        "    - Registration State\n",
        "    - Plate Type\n",
        "    - Issue Date\n",
        "    - Violation Code\n",
        "    - Vehicle Body Type\n",
        "    - Vehicle Make\n",
        "    - Issuing Agency\n",
        "    - Street Code1\n",
        "    - Street Code2\n",
        "    - Street Code3\n",
        "    - Vehicle Expiration Date\n",
        "    - Violation Location\n",
        "    - Violation Precinct\n",
        "    - Issuer Precinct\n",
        "    - Issuer Code\n",
        "    - Issuer Command\n",
        "    - Issuer Squad\n",
        "    - Violation Time\n",
        "    - Time First Observed\n",
        "    - Violation County\n",
        "    - Violation In Front Of Or Opposite\n",
        "    - House Number\n",
        "    - Street Name\n",
        "    - Intersecting Street\n",
        "    - Date First Observed\n",
        "    - Law Section\n",
        "    - Sub Division\n",
        "    - Violation Legal Code\n",
        "    - Days Parking In Effect\n",
        "    - From Hours In Effect\n",
        "    - To Hours In Effect\n",
        "    - Vehicle Color\n",
        "    - Unregistered Vehicle?\n",
        "    - Vehicle Year\n",
        "    - Meter Number\n",
        "    - Feet From Curb\n",
        "    - Violation Post Code\n",
        "    - Violation Description\n",
        "    - No Standing or Stopping Violation\n",
        "    - Hydrant Violation\n",
        "    - Double Parking Violation\n",
        "    - Latitude\n",
        "    - Longitude\n",
        "    - Community Board\n",
        "    - Community Council\n",
        "    - Census Tract\n",
        "    - BIN\n",
        "    - BBL\n",
        "    - NTA"
      ],
      "metadata": {
        "colab": {
          "base_uri": "https://localhost:8080/"
        },
        "id": "hyUuaHX87fxD",
        "outputId": "24cbf15a-21bc-4c57-cf2d-76d9e4128f29"
      },
      "execution_count": null,
      "outputs": [
        {
          "output_type": "stream",
          "name": "stdout",
          "text": [
            "Overwriting file.yaml\n"
          ]
        }
      ]
    },
    {
      "cell_type": "code",
      "source": [
        "# Read config file\n",
        "import utility as util\n",
        "config_data = util.read_config_file(\"file.yaml\")"
      ],
      "metadata": {
        "id": "JbTR9QXIoT1B"
      },
      "execution_count": null,
      "outputs": []
    },
    {
      "cell_type": "code",
      "source": [
        "config_data['inbound_delimiter']"
      ],
      "metadata": {
        "colab": {
          "base_uri": "https://localhost:8080/",
          "height": 35
        },
        "id": "mgKspDCP_rLZ",
        "outputId": "471fff4c-073e-4c72-cadf-7627d7989d42"
      },
      "execution_count": null,
      "outputs": [
        {
          "output_type": "execute_result",
          "data": {
            "text/plain": [
              "','"
            ],
            "application/vnd.google.colaboratory.intrinsic+json": {
              "type": "string"
            }
          },
          "metadata": {},
          "execution_count": 7
        }
      ]
    },
    {
      "cell_type": "code",
      "source": [
        "# inspecting data of config file\n",
        "config_data"
      ],
      "metadata": {
        "colab": {
          "base_uri": "https://localhost:8080/"
        },
        "id": "iDbO50pw_rNY",
        "outputId": "03b5e18b-14b1-44c8-9a12-d246485d075e"
      },
      "execution_count": null,
      "outputs": [
        {
          "output_type": "execute_result",
          "data": {
            "text/plain": [
              "{'columns': ['Summons Number',\n",
              "  'Plate ID',\n",
              "  'Registration State',\n",
              "  'Plate Type',\n",
              "  'Issue Date',\n",
              "  'Violation Code',\n",
              "  'Vehicle Body Type',\n",
              "  'Vehicle Make',\n",
              "  'Issuing Agency',\n",
              "  'Street Code1',\n",
              "  'Street Code2',\n",
              "  'Street Code3',\n",
              "  'Vehicle Expiration Date',\n",
              "  'Violation Location',\n",
              "  'Violation Precinct',\n",
              "  'Issuer Precinct',\n",
              "  'Issuer Code',\n",
              "  'Issuer Command',\n",
              "  'Issuer Squad',\n",
              "  'Violation Time',\n",
              "  'Time First Observed',\n",
              "  'Violation County',\n",
              "  'Violation In Front Of Or Opposite',\n",
              "  'House Number',\n",
              "  'Street Name',\n",
              "  'Intersecting Street',\n",
              "  'Date First Observed',\n",
              "  'Law Section',\n",
              "  'Sub Division',\n",
              "  'Violation Legal Code',\n",
              "  'Days Parking In Effect',\n",
              "  'From Hours In Effect',\n",
              "  'To Hours In Effect',\n",
              "  'Vehicle Color',\n",
              "  'Unregistered Vehicle?',\n",
              "  'Vehicle Year',\n",
              "  'Meter Number',\n",
              "  'Feet From Curb',\n",
              "  'Violation Post Code',\n",
              "  'Violation Description',\n",
              "  'No Standing or Stopping Violation',\n",
              "  'Hydrant Violation',\n",
              "  'Double Parking Violation',\n",
              "  'Latitude',\n",
              "  'Longitude',\n",
              "  'Community Board',\n",
              "  'Community Council',\n",
              "  'Census Tract',\n",
              "  'BIN',\n",
              "  'BBL',\n",
              "  'NTA'],\n",
              " 'dataset_name': 'nyc_tickets',\n",
              " 'file_name': 'nyc_tickets',\n",
              " 'file_type': 'csv',\n",
              " 'inbound_delimiter': ',',\n",
              " 'outbound_delimiter': '|',\n",
              " 'skip_leading_rows': 1,\n",
              " 'table_name': 'tickets'}"
            ]
          },
          "metadata": {},
          "execution_count": 6
        }
      ]
    },
    {
      "cell_type": "code",
      "source": [
        "# validation"
      ],
      "metadata": {
        "id": "YTCZaff7_rSe"
      },
      "execution_count": null,
      "outputs": []
    },
    {
      "cell_type": "code",
      "source": [
        "# validate the header of the file\n",
        "\n",
        "util.col_header_val(df,config_data)"
      ],
      "metadata": {
        "colab": {
          "base_uri": "https://localhost:8080/"
        },
        "id": "opttAMOboT7O",
        "outputId": "2961036a-570f-434d-ec5b-e8f6e9b71195"
      },
      "execution_count": null,
      "outputs": [
        {
          "output_type": "stream",
          "name": "stdout",
          "text": [
            "column name and column length validation failed\n",
            "Following File columns are not in the YAML file ['issuer_command', 'violation_post_code', 'date_first_observed', 'summons_number', 'vehicle_body_type', 'street_code3', 'to_hours_in_effect', 'sub_division', 'violation_location', 'feet_from_curb', 'intersecting_street', 'violation_description', 'vehicle_make', 'census_tract', 'unregistered_vehicle', 'registration_state', 'violation_precinct', 'plate_id', 'from_hours_in_effect', 'no_standing_or_stopping_violation', 'violation_time', 'issuer_precinct', 'law_section', 'issuing_agency', 'issue_date', 'violation_county', 'vehicle_color', 'violation_in_front_of_or_opposite', 'double_parking_violation', 'issuer_squad', 'time_first_observed', 'days_parking_in_effect', 'street_name', 'street_code1', 'house_number', 'vehicle_year', 'violation_legal_code', 'hydrant_violation', 'meter_number', 'violation_code', 'community_board', 'community_council', 'vehicle_expiration_date', 'issuer_code', 'street_code2', 'plate_type']\n",
            "Following YAML columns are not in the file uploaded ['unregistered vehicle?', 'violation precinct', 'issue date', 'street code1', 'time first observed', 'plate type', 'issuer code', 'issuer command', 'plate id', 'summons number', 'violation post code', 'vehicle body type', 'days parking in effect', 'street name', 'street code2', 'violation legal code', 'vehicle color', 'vehicle year', 'house number', 'violation location', 'violation in front of or opposite', 'date first observed', 'vehicle make', 'to hours in effect', 'violation description', 'violation code', 'issuing agency', 'law section', 'meter number', 'issuer precinct', 'community council', 'census tract', 'issuer squad', 'street code3', 'intersecting street', 'registration state', 'no standing or stopping violation', 'community board', 'hydrant violation', 'sub division', 'violation time', 'violation county', 'double parking violation', 'vehicle expiration date', 'from hours in effect', 'feet from curb']\n"
          ]
        },
        {
          "output_type": "execute_result",
          "data": {
            "text/plain": [
              "0"
            ]
          },
          "metadata": {},
          "execution_count": 5
        }
      ]
    },
    {
      "cell_type": "code",
      "source": [
        "print(\"columns of files are:\" ,df.columns)\n",
        "print(\"columns of YAML are:\" ,config_data['columns'])"
      ],
      "metadata": {
        "colab": {
          "base_uri": "https://localhost:8080/"
        },
        "id": "rdO3XCk5Y51d",
        "outputId": "6a4f2cdf-4280-47ac-b8b1-418ef1166eb3"
      },
      "execution_count": null,
      "outputs": [
        {
          "output_type": "stream",
          "name": "stdout",
          "text": [
            "columns of files are: Index(['summons_number', 'plate_id', 'registration_state', 'plate_type',\n",
            "       'issue_date', 'violation_code', 'vehicle_body_type', 'vehicle_make',\n",
            "       'issuing_agency', 'street_code1', 'street_code2', 'street_code3',\n",
            "       'vehicle_expiration_date', 'violation_location', 'violation_precinct',\n",
            "       'issuer_precinct', 'issuer_code', 'issuer_command', 'issuer_squad',\n",
            "       'violation_time', 'time_first_observed', 'violation_county',\n",
            "       'violation_in_front_of_or_opposite', 'house_number', 'street_name',\n",
            "       'intersecting_street', 'date_first_observed', 'law_section',\n",
            "       'sub_division', 'violation_legal_code', 'days_parking_in_effect',\n",
            "       'from_hours_in_effect', 'to_hours_in_effect', 'vehicle_color',\n",
            "       'unregistered_vehicle', 'vehicle_year', 'meter_number',\n",
            "       'feet_from_curb', 'violation_post_code', 'violation_description',\n",
            "       'no_standing_or_stopping_violation', 'hydrant_violation',\n",
            "       'double_parking_violation', 'latitude', 'longitude', 'community_board',\n",
            "       'community_council', 'census_tract', 'bin', 'bbl', 'nta'],\n",
            "      dtype='object')\n",
            "columns of YAML are: ['Summons Number', 'Plate ID', 'Registration State', 'Plate Type', 'Issue Date', 'Violation Code', 'Vehicle Body Type', 'Vehicle Make', 'Issuing Agency', 'Street Code1', 'Street Code2', 'Street Code3', 'Vehicle Expiration Date', 'Violation Location', 'Violation Precinct', 'Issuer Precinct', 'Issuer Code', 'Issuer Command', 'Issuer Squad', 'Violation Time', 'Time First Observed', 'Violation County', 'Violation In Front Of Or Opposite', 'House Number', 'Street Name', 'Intersecting Street', 'Date First Observed', 'Law Section', 'Sub Division', 'Violation Legal Code', 'Days Parking In Effect', 'From Hours In Effect', 'To Hours In Effect', 'Vehicle Color', 'Unregistered Vehicle?', 'Vehicle Year', 'Meter Number', 'Feet From Curb', 'Violation Post Code', 'Violation Description', 'No Standing or Stopping Violation', 'Hydrant Violation', 'Double Parking Violation', 'Latitude', 'Longitude', 'Community Board', 'Community Council', 'Census Tract', 'BIN', 'BBL', 'NTA']\n"
          ]
        }
      ]
    },
    {
      "cell_type": "code",
      "source": [
        "if util.col_header_val(df,config_data)==0:\n",
        "    print(\"validation failed\")\n",
        "else:\n",
        "    print(\"col validation passed\")"
      ],
      "metadata": {
        "colab": {
          "base_uri": "https://localhost:8080/"
        },
        "id": "sHXlTYV_Y53i",
        "outputId": "57b26440-defc-4e20-b67a-6c1735a28d83"
      },
      "execution_count": null,
      "outputs": [
        {
          "output_type": "stream",
          "name": "stdout",
          "text": [
            "column name and column length validation failed\n",
            "Following File columns are not in the YAML file ['issuer_command', 'violation_post_code', 'date_first_observed', 'summons_number', 'vehicle_body_type', 'street_code3', 'to_hours_in_effect', 'sub_division', 'violation_location', 'feet_from_curb', 'intersecting_street', 'violation_description', 'vehicle_make', 'census_tract', 'unregistered_vehicle', 'registration_state', 'violation_precinct', 'plate_id', 'from_hours_in_effect', 'no_standing_or_stopping_violation', 'violation_time', 'issuer_precinct', 'law_section', 'issuing_agency', 'issue_date', 'violation_county', 'vehicle_color', 'violation_in_front_of_or_opposite', 'double_parking_violation', 'issuer_squad', 'time_first_observed', 'days_parking_in_effect', 'street_name', 'street_code1', 'house_number', 'vehicle_year', 'violation_legal_code', 'hydrant_violation', 'meter_number', 'violation_code', 'community_board', 'community_council', 'vehicle_expiration_date', 'issuer_code', 'street_code2', 'plate_type']\n",
            "Following YAML columns are not in the file uploaded ['unregistered vehicle?', 'violation precinct', 'issue date', 'street code1', 'time first observed', 'plate type', 'issuer code', 'issuer command', 'plate id', 'summons number', 'violation post code', 'vehicle body type', 'days parking in effect', 'street name', 'street code2', 'violation legal code', 'vehicle color', 'vehicle year', 'house number', 'violation location', 'violation in front of or opposite', 'date first observed', 'vehicle make', 'to hours in effect', 'violation description', 'violation code', 'issuing agency', 'law section', 'meter number', 'issuer precinct', 'community council', 'census tract', 'issuer squad', 'street code3', 'intersecting street', 'registration state', 'no standing or stopping violation', 'community board', 'hydrant violation', 'sub division', 'violation time', 'violation county', 'double parking violation', 'vehicle expiration date', 'from hours in effect', 'feet from curb']\n",
            "validation failed\n"
          ]
        }
      ]
    },
    {
      "cell_type": "code",
      "source": [
        "# Write csv in gz format in pipe separated text file (|)\n",
        "df.to_csv(\"nyc_tickets.csv.gz\", \n",
        "           index=False,\n",
        "           sep='|', \n",
        "           compression=\"gzip\")"
      ],
      "metadata": {
        "id": "BPGhNhzIF6CH"
      },
      "execution_count": null,
      "outputs": []
    },
    {
      "cell_type": "code",
      "source": [
        "# File summary\n",
        "\n",
        "print(\"Total Rows = \" + str(df.shape[0]) + \" and Total Columns = \" + str(df.shape[1]))\n",
        "print(\"File size = \" + str(os.path.getsize('nyc_tickets.csv.gz')))"
      ],
      "metadata": {
        "colab": {
          "base_uri": "https://localhost:8080/"
        },
        "id": "HhhBBOE3F6H_",
        "outputId": "fe4d7bbd-907a-42ab-ee43-1b2dff5002af"
      },
      "execution_count": null,
      "outputs": [
        {
          "output_type": "stream",
          "name": "stdout",
          "text": [
            "Total Rows = 9100278 and Total Columns = 51\n",
            "File size = 365104705\n"
          ]
        }
      ]
    }
  ]
}